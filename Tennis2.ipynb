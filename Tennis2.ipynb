{
 "cells": [
  {
   "cell_type": "markdown",
   "metadata": {},
   "source": [
    "# Collaboration and Competition\n",
    "\n",
    "---\n",
    "\n",
    "In this notebook, you will learn how to use the Unity ML-Agents environment for the third project of the [Deep Reinforcement Learning Nanodegree](https://www.udacity.com/course/deep-reinforcement-learning-nanodegree--nd893) program.\n",
    "\n",
    "### 1. Start the Environment\n",
    "\n",
    "We begin by importing the necessary packages.  If the code cell below returns an error, please revisit the project instructions to double-check that you have installed [Unity ML-Agents](https://github.com/Unity-Technologies/ml-agents/blob/master/docs/Installation.md) and [NumPy](http://www.numpy.org/)."
   ]
  },
  {
   "cell_type": "code",
   "execution_count": 1,
   "metadata": {},
   "outputs": [],
   "source": [
    "from unityagents import UnityEnvironment\n",
    "import numpy as np"
   ]
  },
  {
   "cell_type": "markdown",
   "metadata": {},
   "source": [
    "Next, we will start the environment!  **_Before running the code cell below_**, change the `file_name` parameter to match the location of the Unity environment that you downloaded.\n",
    "\n",
    "- **Mac**: `\"path/to/Tennis.app\"`\n",
    "- **Windows** (x86): `\"path/to/Tennis_Windows_x86/Tennis.exe\"`\n",
    "- **Windows** (x86_64): `\"path/to/Tennis_Windows_x86_64/Tennis.exe\"`\n",
    "- **Linux** (x86): `\"path/to/Tennis_Linux/Tennis.x86\"`\n",
    "- **Linux** (x86_64): `\"path/to/Tennis_Linux/Tennis.x86_64\"`\n",
    "- **Linux** (x86, headless): `\"path/to/Tennis_Linux_NoVis/Tennis.x86\"`\n",
    "- **Linux** (x86_64, headless): `\"path/to/Tennis_Linux_NoVis/Tennis.x86_64\"`\n",
    "\n",
    "For instance, if you are using a Mac, then you downloaded `Tennis.app`.  If this file is in the same folder as the notebook, then the line below should appear as follows:\n",
    "```\n",
    "env = UnityEnvironment(file_name=\"Tennis.app\")\n",
    "```"
   ]
  },
  {
   "cell_type": "code",
   "execution_count": 2,
   "metadata": {},
   "outputs": [
    {
     "name": "stderr",
     "output_type": "stream",
     "text": [
      "INFO:unityagents:\n",
      "'Academy' started successfully!\n",
      "Unity Academy name: Academy\n",
      "        Number of Brains: 1\n",
      "        Number of External Brains : 1\n",
      "        Lesson number : 0\n",
      "        Reset Parameters :\n",
      "\t\t\n",
      "Unity brain name: TennisBrain\n",
      "        Number of Visual Observations (per agent): 0\n",
      "        Vector Observation space type: continuous\n",
      "        Vector Observation space size (per agent): 8\n",
      "        Number of stacked Vector Observation: 3\n",
      "        Vector Action space type: continuous\n",
      "        Vector Action space size (per agent): 2\n",
      "        Vector Action descriptions: , \n"
     ]
    }
   ],
   "source": [
    "#env = UnityEnvironment(file_name=\"../Tennis.app\")\n",
    "env = UnityEnvironment(file_name=\"Tennis_Windows_x86_64/Tennis.exe\")"
   ]
  },
  {
   "cell_type": "markdown",
   "metadata": {},
   "source": [
    "Environments contain **_brains_** which are responsible for deciding the actions of their associated agents. Here we check for the first brain available, and set it as the default brain we will be controlling from Python."
   ]
  },
  {
   "cell_type": "code",
   "execution_count": 3,
   "metadata": {},
   "outputs": [],
   "source": [
    "# get the default brain\n",
    "brain_name = env.brain_names[0]\n",
    "brain = env.brains[brain_name]"
   ]
  },
  {
   "cell_type": "markdown",
   "metadata": {},
   "source": [
    "### 2. Examine the State and Action Spaces\n",
    "\n",
    "In this environment, two agents control rackets to bounce a ball over a net. If an agent hits the ball over the net, it receives a reward of +0.1.  If an agent lets a ball hit the ground or hits the ball out of bounds, it receives a reward of -0.01.  Thus, the goal of each agent is to keep the ball in play.\n",
    "\n",
    "The observation space consists of 8 variables corresponding to the position and velocity of the ball and racket. Two continuous actions are available, corresponding to movement toward (or away from) the net, and jumping. \n",
    "\n",
    "Run the code cell below to print some information about the environment."
   ]
  },
  {
   "cell_type": "code",
   "execution_count": 4,
   "metadata": {},
   "outputs": [
    {
     "name": "stdout",
     "output_type": "stream",
     "text": [
      "Number of agents: 2\n",
      "Size of each action: 2\n",
      "There are 2 agents. Each observes a state with length: 24\n",
      "The state for the first agent looks like: [ 0.          0.          0.          0.          0.          0.\n",
      "  0.          0.          0.          0.          0.          0.\n",
      "  0.          0.          0.          0.         -6.65278625 -1.5\n",
      " -0.          0.          6.83172083  6.         -0.          0.        ]\n"
     ]
    }
   ],
   "source": [
    "# reset the environment\n",
    "env_info = env.reset(train_mode=True)[brain_name]\n",
    "import time\n",
    "# number of agents \n",
    "num_agents = len(env_info.agents)\n",
    "print('Number of agents:', num_agents)\n",
    "\n",
    "# size of each action\n",
    "action_size = brain.vector_action_space_size\n",
    "print('Size of each action:', action_size)\n",
    "\n",
    "# examine the state space \n",
    "states = env_info.vector_observations\n",
    "state_size = states.shape[1]\n",
    "print('There are {} agents. Each observes a state with length: {}'.format(states.shape[0], state_size))\n",
    "print('The state for the first agent looks like:', states[0])"
   ]
  },
  {
   "cell_type": "markdown",
   "metadata": {},
   "source": [
    "### 3. Take Random Actions in the Environment\n",
    "\n",
    "In the next code cell, you will learn how to use the Python API to control the agents and receive feedback from the environment.\n",
    "\n",
    "Once this cell is executed, you will watch the agents' performance, if they select actions at random with each time step.  A window should pop up that allows you to observe the agents.\n",
    "\n",
    "Of course, as part of the project, you'll have to change the code so that the agents are able to use their experiences to gradually choose better actions when interacting with the environment!"
   ]
  },
  {
   "cell_type": "code",
   "execution_count": null,
   "metadata": {},
   "outputs": [],
   "source": [
    "for i in range(1, 3):                                      # play game for 5 episodes\n",
    "    env_info = env.reset(train_mode=False)[brain_name]     # reset the environment    \n",
    "    states = env_info.vector_observations                  # get the current state (for each agent)\n",
    "    scores = np.zeros(num_agents)                          # initialize the score (for each agent)\n",
    "    while True:\n",
    "        actions = np.random.randn(num_agents, action_size) # select an action (for each agent)\n",
    "        actions = np.clip(actions, -1, 1)                  # all actions between -1 and 1\n",
    "        env_info = env.step(actions)[brain_name]           # send all actions to tne environment\n",
    "        next_states = env_info.vector_observations         # get next state (for each agent)\n",
    "        rewards = env_info.rewards                         # get reward (for each agent)\n",
    "        dones = env_info.local_done                        # see if episode finished\n",
    "        scores += env_info.rewards                         # update the score (for each agent)\n",
    "        states = next_states                               # roll over states to next time step\n",
    "        if np.any(dones):                                  # exit loop if episode finished\n",
    "            print(\"DONE\")\n",
    "            break\n",
    "    print('Score (max over agents) from episode {}: {}'.format(i, np.max(scores)))"
   ]
  },
  {
   "cell_type": "markdown",
   "metadata": {},
   "source": [
    "When finished, you can close the environment."
   ]
  },
  {
   "cell_type": "code",
   "execution_count": null,
   "metadata": {},
   "outputs": [],
   "source": [
    "states[0]"
   ]
  },
  {
   "cell_type": "code",
   "execution_count": null,
   "metadata": {},
   "outputs": [],
   "source": [
    "env.close()"
   ]
  },
  {
   "cell_type": "markdown",
   "metadata": {},
   "source": [
    "### 4. It's Your Turn!\n",
    "\n",
    "Now it's your turn to train your own agent to solve the environment!  When training the environment, set `train_mode=True`, so that the line for resetting the environment looks like the following:\n",
    "```python\n",
    "env_info = env.reset(train_mode=True)[brain_name]\n",
    "```"
   ]
  },
  {
   "cell_type": "markdown",
   "metadata": {},
   "source": [
    "Start off with PPO and see how it goes. Use one PPO for each agent. Split things so that when we collect trajectories, we have a shared buffer that trains the full network"
   ]
  },
  {
   "cell_type": "code",
   "execution_count": 5,
   "metadata": {},
   "outputs": [],
   "source": [
    "# First create the neural network powering our agent\n",
    "import torch\n",
    "import torch.nn as nn\n",
    "import torch.nn.functional as F\n",
    "\n",
    "device = torch.device(\"cuda:0\" if torch.cuda.is_available() else \"cpu\")\n",
    "\n",
    "class Policy(nn.Module):\n",
    "\n",
    "    def __init__(self):\n",
    "        super(Policy, self).__init__()\n",
    "     \n",
    "        self.size = 24\n",
    "        self.fc1 = nn.Linear(self.size, 512)\n",
    "        self.fc2 = nn.Linear(512, 256)\n",
    "        self.fc3 = nn.Linear(256, 2)\n",
    "        \n",
    "        self.critic_fc1 = nn.Linear(self.size+4,512)\n",
    "        self.critic_fc2 = nn.Linear(512,256)\n",
    "        self.critic_fc3 = nn.Linear(256,1)\n",
    "        self.normalDistParams = torch.ones((1,2),device=device)*0.25\n",
    "        self.to(device)\n",
    "        \n",
    "    def forward(self, x,sampled_actions=None,other_actions=None):\n",
    "        a  = torch.tensor(x,dtype=torch.float,device=device)\n",
    "        a = F.relu(self.fc1(a))\n",
    "        a = F.relu(self.fc2(a))\n",
    "        a = F.tanh(self.fc3(a))\n",
    "        \n",
    "        v1 = torch.tensor(x,dtype=torch.float,device=device)\n",
    "        v2 = torch.zeros(4).to(device)\n",
    "        #print(v1.shape)\n",
    "        if (len(v1.shape) == 2):\n",
    "            v2 = torch.zeros(v1.shape[0],4).to(device)\n",
    "        else:\n",
    "            v2 = torch.zeros(4).to(device)\n",
    "        #print(v1)\n",
    "        #print(v2)\n",
    "        if other_actions is not None:\n",
    "            v2 = torch.tensor(other_actions,dtype=torch.float,device=device)\n",
    "        if (len(v1.shape) == 2):\n",
    "            v = torch.cat([v1,v2],dim=1)\n",
    "        else:\n",
    "            v = torch.cat([v1,v2],dim=0)\n",
    "        #print(v)\n",
    "        v = F.relu(self.critic_fc1(v))\n",
    "        v = F.relu(self.critic_fc2(v))\n",
    "        v = self.critic_fc3(v)\n",
    "        \n",
    "       \n",
    "        #x is now the mean of a normal distribution from which we\n",
    "        #sample the actual action values\n",
    "        prob_dists = torch.distributions.Normal(a,self.normalDistParams)\n",
    "        if sampled_actions is None:\n",
    "            sampled_actions = prob_dists.sample()\n",
    "        action_probabilities = prob_dists.log_prob(sampled_actions) #Prob of each individual action\n",
    "        summed_action_probabilities = torch.sum(action_probabilities,dim=-1,keepdim=True)\n",
    "        entropy = prob_dists.entropy().sum(-1).unsqueeze(-1)\n",
    "        return sampled_actions,summed_action_probabilities,entropy,v\n",
    "        \n",
    "\n",
    "\n",
    "# run your own policy!\n",
    "#policy=Policy().to(device)\n",
    "\n",
    "#optimizer = optim.Adam(policy.parameters(), lr=3e-4)"
   ]
  },
  {
   "cell_type": "code",
   "execution_count": 6,
   "metadata": {},
   "outputs": [],
   "source": [
    "import torch.optim as optim"
   ]
  },
  {
   "cell_type": "code",
   "execution_count": 7,
   "metadata": {},
   "outputs": [],
   "source": [
    "class PPOAgent():\n",
    "    \n",
    "    def __init__(self):\n",
    "        self.policy = Policy().to(device)\n",
    "        self.optimizer = optim.Adam(self.policy.parameters(),lr=3e-4)\n",
    "    \n",
    "    def optimize(self, sampled_states,sampled_actions,sampled_log_probs,sampled_returns,sampled_advantages,sampled_other_actions):\n",
    "        sampled_all_actions = torch.cat([sampled_actions,sampled_other_actions],dim=1)\n",
    "        _, log_probs, entropy_loss, values = self.policy(sampled_states, sampled_actions,sampled_all_actions)\n",
    "        #entropy_loss = torch.Tensor(np.zeros((log_probs.size(0), 1))).to(device)\n",
    "       \n",
    "        ratio = (log_probs - sampled_log_probs).exp()\n",
    "        entropy_loss = log_probs.exp()*(sampled_log_probs)\n",
    "        #print(entropy_loss.mean())\n",
    "        #print(ratio)\n",
    "        obj = ratio * sampled_advantages\n",
    "        obj_clipped = ratio.clamp(1.0 - 0.2,\n",
    "                               1.0 + 0.2) * sampled_advantages\n",
    "        #print(obj_clipped)\n",
    "        policy_loss = -torch.min(obj, obj_clipped).mean(0) - 0.1*entropy_loss.mean()\n",
    "        #print(policy_loss)\n",
    "        value_loss = 0.5 * (sampled_returns - values).pow(2).mean()\n",
    "        #print(value_loss)\n",
    "        #print('Policy Loss {} Value Loss {}'.format(policy_loss,value_loss))\n",
    "        self.optimizer.zero_grad()\n",
    "        (policy_loss + value_loss).backward()\n",
    "        self.optimizer.step()"
   ]
  },
  {
   "cell_type": "code",
   "execution_count": 8,
   "metadata": {},
   "outputs": [],
   "source": [
    "agent1 = PPOAgent()\n",
    "agent2 = PPOAgent()"
   ]
  },
  {
   "cell_type": "code",
   "execution_count": 9,
   "metadata": {},
   "outputs": [],
   "source": [
    "def gen_traj_2():\n",
    "    agent1_rollout = []\n",
    "    agent2_rollout = []\n",
    "    rollout_length = 1000\n",
    "    env_info = env.reset(train_mode=True)[brain_name]    \n",
    "    states = env_info.vector_observations\n",
    "    for _ in range(rollout_length):\n",
    "        #states_tensor = torch.Tensor(states,device=device).cuda()\n",
    "        actions1, log_probs1, _, values1 = agent1.policy(states[0])\n",
    "        actions2, log_probs2, _, values2 = agent2.policy(states[1])\n",
    "        \n",
    "        actions = torch.cat((actions1,actions2))\n",
    "        values = torch.cat((values1,values2))\n",
    "        log_probs = torch.cat((log_probs1,log_probs2))\n",
    "        #actions, log_probs, _, values = test_agent.policy(states)\n",
    "        env_info = env.step(actions.cpu().detach().numpy())[brain_name]\n",
    "        next_states = env_info.vector_observations\n",
    "        rewards = env_info.rewards\n",
    "        terminals = np.array([1 if t else 0 for t in env_info.local_done])\n",
    "        #scores += env_info.rewards\n",
    "        #rollout.append([states, values.detach(), actions.detach(), log_probs.detach(), rewards, 1 - terminals])\n",
    "        agent1_rollout.append([states[0],values1.detach(),actions1.detach(),log_probs1.detach(),rewards[0],1-terminals[0:1],actions2.detach()])\n",
    "        agent2_rollout.append([states[1],values2.detach(),actions2.detach(),log_probs2.detach(),rewards[1],1-terminals[1:2],actions1.detach()])\n",
    "        states = next_states\n",
    "\n",
    "        dones = env_info.local_done                        # see if episode finished\n",
    "        if np.any(dones):                                  # exit loop if episode finished\n",
    "            break\n",
    "        \n",
    "    pending_value1 = agent1.policy(states[0])[-1]\n",
    "    pending_value2 = agent2.policy(states[1])[-1]\n",
    "\n",
    "\n",
    "    agent1_rollout.append([states[0], pending_value1, None, None, None, None,None])\n",
    "    agent2_rollout.append([states[0], pending_value2, None, None, None, None,None])\n",
    "\n",
    "\n",
    "    return agent1_rollout,agent2_rollout\n"
   ]
  },
  {
   "cell_type": "code",
   "execution_count": 10,
   "metadata": {},
   "outputs": [],
   "source": [
    "def generate_processed_rollout(rollout,idx):\n",
    "    #For each agent get the states, compute the rewards and also keep track of\n",
    "   \n",
    "    \n",
    "    #Now that we have generated some trajectories\n",
    "    processed_rollout = [None] * (len(rollout) - 1)\n",
    "    advantages = torch.Tensor(np.zeros((1, 1))).to(device)\n",
    "    returns = rollout[-1][1].detach()\n",
    "    #returns = 0\n",
    "    \n",
    "    discount_rate = 0.99\n",
    "    tau = 0.99\n",
    "    for i in reversed(range(len(rollout) - 1)):\n",
    "        states, value, actions, log_probs, rewards, terminals,other_actions = rollout[i]\n",
    "        #terminals = torch.Tensor(terminals).unsqueeze(1).to(device)\n",
    "        #rewards = torch.Tensor([rewards]).unsqueeze(1).to(device)\n",
    "        rewards = torch.Tensor([rewards]).to(device)\n",
    "        actions = actions\n",
    "        states = torch.Tensor(states).unsqueeze(0).to(device)\n",
    "        next_value = rollout[i + 1][1]\n",
    "        #returns = rewards + discount_rate * terminals * returns\n",
    "        returns = rewards + discount_rate * returns\n",
    "        #print(returns)\n",
    "\n",
    "        #td_error = rewards + discount_rate * terminals * next_value.detach() - value.detach()\n",
    "        td_error = rewards + discount_rate * next_value.detach() - value.detach()\n",
    "        #print(td_error)\n",
    "        #advantages = advantages * tau * discount_rate * terminals + td_error\n",
    "        advantages = advantages * tau * discount_rate + td_error\n",
    "        #print(advantages)\n",
    "        processed_rollout[i] = [states, actions, log_probs, returns, advantages,other_actions]\n",
    "    return processed_rollout\n",
    "\n",
    "def generate_training_data(processed_rollout,idx):\n",
    "    processed_states,processed_actions,processed_log_probs,processed_returns,processed_adv,processed_other_actions = zip(*processed_rollout)\n",
    "    #Convert into tensors\n",
    "    processed_states = torch.cat(processed_states,dim=0)\n",
    "    processed_actions = torch.cat(processed_actions,dim=0)\n",
    "    processed_other_actions = torch.cat(processed_other_actions,dim=0)\n",
    "    processed_log_probs = torch.cat(processed_log_probs,dim=0)\n",
    "    processed_returns = torch.cat(processed_returns,dim=0)\n",
    "    processed_adv = torch.cat(processed_adv,dim=0)\n",
    "    return processed_states,processed_actions,processed_log_probs,processed_returns,processed_adv,processed_other_actions\n",
    "\n",
    "    "
   ]
  },
  {
   "cell_type": "code",
   "execution_count": 11,
   "metadata": {},
   "outputs": [],
   "source": [
    "def generate_processed_training_data(num_steps):\n",
    "    #all_concat_train = [gen_traj_2() for i in range(num_steps)]\n",
    "    all_proll1 = []\n",
    "    all_proll2 = []\n",
    "    for i in range(num_steps):\n",
    "        roll1,roll2 = gen_traj_2()\n",
    "        proll1 = generate_processed_rollout(roll1,1)\n",
    "        proll2 = generate_processed_rollout(roll2,2)\n",
    "        all_proll1.append(proll1)\n",
    "        all_proll2.append(proll2)\n",
    "        #print(len(proll2))\n",
    "        \n",
    "    len_final_proll1 = np.sum([len(pr) for pr in all_proll1])\n",
    "    #print(\"FINAL LENGTH\"  + str(len_final_proll1))\n",
    "    final_concat_test_proll1 = [None]*(len_final_proll1)\n",
    "    final_concat_test_proll2 = [None]*(len_final_proll1)\n",
    "    counter = 0\n",
    "    for i in range(num_steps):\n",
    "        for j in range(len(all_proll1[i])):\n",
    "            final_concat_test_proll1[counter] = all_proll1[i][j]\n",
    "            final_concat_test_proll2[counter] = all_proll2[i][j]\n",
    "            counter = counter + 1\n",
    "    return final_concat_test_proll1,final_concat_test_proll2\n"
   ]
  },
  {
   "cell_type": "code",
   "execution_count": null,
   "metadata": {},
   "outputs": [],
   "source": [
    "xx,yy = generate_processed_training_data(1)"
   ]
  },
  {
   "cell_type": "code",
   "execution_count": null,
   "metadata": {},
   "outputs": [],
   "source": [
    "xx"
   ]
  },
  {
   "cell_type": "code",
   "execution_count": 12,
   "metadata": {},
   "outputs": [
    {
     "name": "stderr",
     "output_type": "stream",
     "text": [
      "c:\\users\\kvjos\\anaconda3\\envs\\drlnd2\\lib\\site-packages\\torch\\nn\\functional.py:995: UserWarning: nn.functional.tanh is deprecated. Use torch.tanh instead.\n",
      "  warnings.warn(\"nn.functional.tanh is deprecated. Use torch.tanh instead.\")\n"
     ]
    },
    {
     "name": "stdout",
     "output_type": "stream",
     "text": [
      "Ep 0:Score: 0.0, Last 100 Rolling 0.0 Best 0.0 Best Last 100 0.0\n",
      "Ep 50:Score: 0.0, Last 100 Rolling 0.0 Best 0.0 Best Last 100 0.0\n",
      "Ep 100:Score: 0.0, Last 100 Rolling 0.0 Best 0.0 Best Last 100 0.0\n",
      "Ep 150:Score: 0.0, Last 100 Rolling 0.0 Best 0.0 Best Last 100 0.0\n",
      "Ep 200:Score: 0.0, Last 100 Rolling 0.0 Best 0.0 Best Last 100 0.0\n",
      "Ep 250:Score: 0.0, Last 100 Rolling 0.0 Best 0.0 Best Last 100 0.0\n",
      "Ep 300:Score: 0.0, Last 100 Rolling 0.0 Best 0.0 Best Last 100 0.0\n",
      "Ep 350:Score: 0.0, Last 100 Rolling 0.0 Best 0.0 Best Last 100 0.0\n",
      "Ep 400:Score: 0.0, Last 100 Rolling 0.0 Best 0.0 Best Last 100 0.0\n",
      "Ep 450:Score: 0.0, Last 100 Rolling 0.0 Best 0.0 Best Last 100 0.0\n",
      "Ep 500:Score: 0.0, Last 100 Rolling 0.0 Best 0.0 Best Last 100 0.0\n",
      "Ep 550:Score: 0.0, Last 100 Rolling 0.0 Best 0.0 Best Last 100 0.0\n",
      "Ep 600:Score: 0.0, Last 100 Rolling 0.0 Best 0.0 Best Last 100 0.0\n",
      "Ep 650:Score: 0.0, Last 100 Rolling 0.0 Best 0.0 Best Last 100 0.0\n",
      "Ep 700:Score: 0.0, Last 100 Rolling 0.0 Best 0.0 Best Last 100 0.0\n",
      "Ep 750:Score: 0.0, Last 100 Rolling 0.0 Best 0.0 Best Last 100 0.0\n"
     ]
    },
    {
     "ename": "KeyboardInterrupt",
     "evalue": "",
     "output_type": "error",
     "traceback": [
      "\u001b[1;31m---------------------------------------------------------------------------\u001b[0m",
      "\u001b[1;31mKeyboardInterrupt\u001b[0m                         Traceback (most recent call last)",
      "\u001b[1;32m<ipython-input-12-487add4e0199>\u001b[0m in \u001b[0;36m<module>\u001b[1;34m\u001b[0m\n\u001b[0;32m      5\u001b[0m     \u001b[1;31m#roll1,roll2 = gen_traj_2()\u001b[0m\u001b[1;33m\u001b[0m\u001b[1;33m\u001b[0m\u001b[1;33m\u001b[0m\u001b[0m\n\u001b[0;32m      6\u001b[0m     \u001b[1;31m#print(\"Rollout length \" + str(len(roll1)))\u001b[0m\u001b[1;33m\u001b[0m\u001b[1;33m\u001b[0m\u001b[1;33m\u001b[0m\u001b[0m\n\u001b[1;32m----> 7\u001b[1;33m     \u001b[0mroll1\u001b[0m\u001b[1;33m,\u001b[0m\u001b[0mroll2\u001b[0m \u001b[1;33m=\u001b[0m \u001b[0mgenerate_processed_training_data\u001b[0m\u001b[1;33m(\u001b[0m\u001b[1;36m40\u001b[0m\u001b[1;33m)\u001b[0m\u001b[1;33m\u001b[0m\u001b[1;33m\u001b[0m\u001b[0m\n\u001b[0m\u001b[0;32m      8\u001b[0m     \u001b[0mstep_states1\u001b[0m\u001b[1;33m,\u001b[0m\u001b[0mstep_actions1\u001b[0m\u001b[1;33m,\u001b[0m\u001b[0mstep_log_probs1\u001b[0m\u001b[1;33m,\u001b[0m\u001b[0mstep_rewards1\u001b[0m\u001b[1;33m,\u001b[0m\u001b[0mstep_advantages1\u001b[0m\u001b[1;33m,\u001b[0m\u001b[0mstep_other_actions1\u001b[0m \u001b[1;33m=\u001b[0m \u001b[0mgenerate_training_data\u001b[0m\u001b[1;33m(\u001b[0m\u001b[0mroll1\u001b[0m\u001b[1;33m,\u001b[0m\u001b[1;36m1\u001b[0m\u001b[1;33m)\u001b[0m\u001b[1;33m\u001b[0m\u001b[1;33m\u001b[0m\u001b[0m\n\u001b[0;32m      9\u001b[0m     \u001b[0mstep_states2\u001b[0m\u001b[1;33m,\u001b[0m\u001b[0mstep_actions2\u001b[0m\u001b[1;33m,\u001b[0m\u001b[0mstep_log_probs2\u001b[0m\u001b[1;33m,\u001b[0m\u001b[0mstep_rewards2\u001b[0m\u001b[1;33m,\u001b[0m\u001b[0mstep_advantages2\u001b[0m\u001b[1;33m,\u001b[0m\u001b[0mstep_other_actions2\u001b[0m \u001b[1;33m=\u001b[0m \u001b[0mgenerate_training_data\u001b[0m\u001b[1;33m(\u001b[0m\u001b[0mroll2\u001b[0m\u001b[1;33m,\u001b[0m\u001b[1;36m2\u001b[0m\u001b[1;33m)\u001b[0m\u001b[1;33m\u001b[0m\u001b[1;33m\u001b[0m\u001b[0m\n",
      "\u001b[1;32m<ipython-input-11-4f7f51e4f837>\u001b[0m in \u001b[0;36mgenerate_processed_training_data\u001b[1;34m(num_steps)\u001b[0m\n\u001b[0;32m      4\u001b[0m     \u001b[0mall_proll2\u001b[0m \u001b[1;33m=\u001b[0m \u001b[1;33m[\u001b[0m\u001b[1;33m]\u001b[0m\u001b[1;33m\u001b[0m\u001b[1;33m\u001b[0m\u001b[0m\n\u001b[0;32m      5\u001b[0m     \u001b[1;32mfor\u001b[0m \u001b[0mi\u001b[0m \u001b[1;32min\u001b[0m \u001b[0mrange\u001b[0m\u001b[1;33m(\u001b[0m\u001b[0mnum_steps\u001b[0m\u001b[1;33m)\u001b[0m\u001b[1;33m:\u001b[0m\u001b[1;33m\u001b[0m\u001b[1;33m\u001b[0m\u001b[0m\n\u001b[1;32m----> 6\u001b[1;33m         \u001b[0mroll1\u001b[0m\u001b[1;33m,\u001b[0m\u001b[0mroll2\u001b[0m \u001b[1;33m=\u001b[0m \u001b[0mgen_traj_2\u001b[0m\u001b[1;33m(\u001b[0m\u001b[1;33m)\u001b[0m\u001b[1;33m\u001b[0m\u001b[1;33m\u001b[0m\u001b[0m\n\u001b[0m\u001b[0;32m      7\u001b[0m         \u001b[0mproll1\u001b[0m \u001b[1;33m=\u001b[0m \u001b[0mgenerate_processed_rollout\u001b[0m\u001b[1;33m(\u001b[0m\u001b[0mroll1\u001b[0m\u001b[1;33m,\u001b[0m\u001b[1;36m1\u001b[0m\u001b[1;33m)\u001b[0m\u001b[1;33m\u001b[0m\u001b[1;33m\u001b[0m\u001b[0m\n\u001b[0;32m      8\u001b[0m         \u001b[0mproll2\u001b[0m \u001b[1;33m=\u001b[0m \u001b[0mgenerate_processed_rollout\u001b[0m\u001b[1;33m(\u001b[0m\u001b[0mroll2\u001b[0m\u001b[1;33m,\u001b[0m\u001b[1;36m2\u001b[0m\u001b[1;33m)\u001b[0m\u001b[1;33m\u001b[0m\u001b[1;33m\u001b[0m\u001b[0m\n",
      "\u001b[1;32m<ipython-input-9-9ac96501e795>\u001b[0m in \u001b[0;36mgen_traj_2\u001b[1;34m()\u001b[0m\n\u001b[0;32m      7\u001b[0m     \u001b[1;32mfor\u001b[0m \u001b[0m_\u001b[0m \u001b[1;32min\u001b[0m \u001b[0mrange\u001b[0m\u001b[1;33m(\u001b[0m\u001b[0mrollout_length\u001b[0m\u001b[1;33m)\u001b[0m\u001b[1;33m:\u001b[0m\u001b[1;33m\u001b[0m\u001b[1;33m\u001b[0m\u001b[0m\n\u001b[0;32m      8\u001b[0m         \u001b[1;31m#states_tensor = torch.Tensor(states,device=device).cuda()\u001b[0m\u001b[1;33m\u001b[0m\u001b[1;33m\u001b[0m\u001b[1;33m\u001b[0m\u001b[0m\n\u001b[1;32m----> 9\u001b[1;33m         \u001b[0mactions1\u001b[0m\u001b[1;33m,\u001b[0m \u001b[0mlog_probs1\u001b[0m\u001b[1;33m,\u001b[0m \u001b[0m_\u001b[0m\u001b[1;33m,\u001b[0m \u001b[0mvalues1\u001b[0m \u001b[1;33m=\u001b[0m \u001b[0magent1\u001b[0m\u001b[1;33m.\u001b[0m\u001b[0mpolicy\u001b[0m\u001b[1;33m(\u001b[0m\u001b[0mstates\u001b[0m\u001b[1;33m[\u001b[0m\u001b[1;36m0\u001b[0m\u001b[1;33m]\u001b[0m\u001b[1;33m)\u001b[0m\u001b[1;33m\u001b[0m\u001b[1;33m\u001b[0m\u001b[0m\n\u001b[0m\u001b[0;32m     10\u001b[0m         \u001b[0mactions2\u001b[0m\u001b[1;33m,\u001b[0m \u001b[0mlog_probs2\u001b[0m\u001b[1;33m,\u001b[0m \u001b[0m_\u001b[0m\u001b[1;33m,\u001b[0m \u001b[0mvalues2\u001b[0m \u001b[1;33m=\u001b[0m \u001b[0magent2\u001b[0m\u001b[1;33m.\u001b[0m\u001b[0mpolicy\u001b[0m\u001b[1;33m(\u001b[0m\u001b[0mstates\u001b[0m\u001b[1;33m[\u001b[0m\u001b[1;36m1\u001b[0m\u001b[1;33m]\u001b[0m\u001b[1;33m)\u001b[0m\u001b[1;33m\u001b[0m\u001b[1;33m\u001b[0m\u001b[0m\n\u001b[0;32m     11\u001b[0m \u001b[1;33m\u001b[0m\u001b[0m\n",
      "\u001b[1;32mc:\\users\\kvjos\\anaconda3\\envs\\drlnd2\\lib\\site-packages\\torch\\nn\\modules\\module.py\u001b[0m in \u001b[0;36m__call__\u001b[1;34m(self, *input, **kwargs)\u001b[0m\n\u001b[0;32m    475\u001b[0m             \u001b[0mresult\u001b[0m \u001b[1;33m=\u001b[0m \u001b[0mself\u001b[0m\u001b[1;33m.\u001b[0m\u001b[0m_slow_forward\u001b[0m\u001b[1;33m(\u001b[0m\u001b[1;33m*\u001b[0m\u001b[0minput\u001b[0m\u001b[1;33m,\u001b[0m \u001b[1;33m**\u001b[0m\u001b[0mkwargs\u001b[0m\u001b[1;33m)\u001b[0m\u001b[1;33m\u001b[0m\u001b[1;33m\u001b[0m\u001b[0m\n\u001b[0;32m    476\u001b[0m         \u001b[1;32melse\u001b[0m\u001b[1;33m:\u001b[0m\u001b[1;33m\u001b[0m\u001b[1;33m\u001b[0m\u001b[0m\n\u001b[1;32m--> 477\u001b[1;33m             \u001b[0mresult\u001b[0m \u001b[1;33m=\u001b[0m \u001b[0mself\u001b[0m\u001b[1;33m.\u001b[0m\u001b[0mforward\u001b[0m\u001b[1;33m(\u001b[0m\u001b[1;33m*\u001b[0m\u001b[0minput\u001b[0m\u001b[1;33m,\u001b[0m \u001b[1;33m**\u001b[0m\u001b[0mkwargs\u001b[0m\u001b[1;33m)\u001b[0m\u001b[1;33m\u001b[0m\u001b[1;33m\u001b[0m\u001b[0m\n\u001b[0m\u001b[0;32m    478\u001b[0m         \u001b[1;32mfor\u001b[0m \u001b[0mhook\u001b[0m \u001b[1;32min\u001b[0m \u001b[0mself\u001b[0m\u001b[1;33m.\u001b[0m\u001b[0m_forward_hooks\u001b[0m\u001b[1;33m.\u001b[0m\u001b[0mvalues\u001b[0m\u001b[1;33m(\u001b[0m\u001b[1;33m)\u001b[0m\u001b[1;33m:\u001b[0m\u001b[1;33m\u001b[0m\u001b[1;33m\u001b[0m\u001b[0m\n\u001b[0;32m    479\u001b[0m             \u001b[0mhook_result\u001b[0m \u001b[1;33m=\u001b[0m \u001b[0mhook\u001b[0m\u001b[1;33m(\u001b[0m\u001b[0mself\u001b[0m\u001b[1;33m,\u001b[0m \u001b[0minput\u001b[0m\u001b[1;33m,\u001b[0m \u001b[0mresult\u001b[0m\u001b[1;33m)\u001b[0m\u001b[1;33m\u001b[0m\u001b[1;33m\u001b[0m\u001b[0m\n",
      "\u001b[1;32m<ipython-input-5-2fbe59258400>\u001b[0m in \u001b[0;36mforward\u001b[1;34m(self, x, sampled_actions, other_actions)\u001b[0m\n\u001b[0;32m     34\u001b[0m             \u001b[0mv2\u001b[0m \u001b[1;33m=\u001b[0m \u001b[0mtorch\u001b[0m\u001b[1;33m.\u001b[0m\u001b[0mzeros\u001b[0m\u001b[1;33m(\u001b[0m\u001b[0mv1\u001b[0m\u001b[1;33m.\u001b[0m\u001b[0mshape\u001b[0m\u001b[1;33m[\u001b[0m\u001b[1;36m0\u001b[0m\u001b[1;33m]\u001b[0m\u001b[1;33m,\u001b[0m\u001b[1;36m4\u001b[0m\u001b[1;33m)\u001b[0m\u001b[1;33m.\u001b[0m\u001b[0mto\u001b[0m\u001b[1;33m(\u001b[0m\u001b[0mdevice\u001b[0m\u001b[1;33m)\u001b[0m\u001b[1;33m\u001b[0m\u001b[1;33m\u001b[0m\u001b[0m\n\u001b[0;32m     35\u001b[0m         \u001b[1;32melse\u001b[0m\u001b[1;33m:\u001b[0m\u001b[1;33m\u001b[0m\u001b[1;33m\u001b[0m\u001b[0m\n\u001b[1;32m---> 36\u001b[1;33m             \u001b[0mv2\u001b[0m \u001b[1;33m=\u001b[0m \u001b[0mtorch\u001b[0m\u001b[1;33m.\u001b[0m\u001b[0mzeros\u001b[0m\u001b[1;33m(\u001b[0m\u001b[1;36m4\u001b[0m\u001b[1;33m)\u001b[0m\u001b[1;33m.\u001b[0m\u001b[0mto\u001b[0m\u001b[1;33m(\u001b[0m\u001b[0mdevice\u001b[0m\u001b[1;33m)\u001b[0m\u001b[1;33m\u001b[0m\u001b[1;33m\u001b[0m\u001b[0m\n\u001b[0m\u001b[0;32m     37\u001b[0m         \u001b[1;31m#print(v1)\u001b[0m\u001b[1;33m\u001b[0m\u001b[1;33m\u001b[0m\u001b[1;33m\u001b[0m\u001b[0m\n\u001b[0;32m     38\u001b[0m         \u001b[1;31m#print(v2)\u001b[0m\u001b[1;33m\u001b[0m\u001b[1;33m\u001b[0m\u001b[1;33m\u001b[0m\u001b[0m\n",
      "\u001b[1;31mKeyboardInterrupt\u001b[0m: "
     ]
    }
   ],
   "source": [
    "num_training_steps = 2000\n",
    "num_epochs_per_step = 5\n",
    "all_mean_scores = []\n",
    "for i in range(num_training_steps):\n",
    "    #roll1,roll2 = gen_traj_2()\n",
    "    #print(\"Rollout length \" + str(len(roll1)))\n",
    "    roll1,roll2 = generate_processed_training_data(40)\n",
    "    step_states1,step_actions1,step_log_probs1,step_rewards1,step_advantages1,step_other_actions1 = generate_training_data(roll1,1)\n",
    "    step_states2,step_actions2,step_log_probs2,step_rewards2,step_advantages2,step_other_actions2 = generate_training_data(roll2,2)\n",
    "    for j in range(num_epochs_per_step):\n",
    "        agent1.optimize(step_states1,step_actions1,step_log_probs1,step_rewards1,step_advantages1,step_other_actions1)\n",
    "        agent2.optimize(step_states1,step_actions1,step_log_probs1,step_rewards1,step_advantages1,step_other_actions1)\n",
    "   \n",
    "        agent2.optimize(step_states2,step_actions2,step_log_probs2,step_rewards2,step_advantages2,step_other_actions2)\n",
    "        agent1.optimize(step_states2,step_actions2,step_log_probs2,step_rewards2,step_advantages2,step_other_actions2)\n",
    "    \n",
    "    #Now simulate using the current policy and calculate the average score across all 20 agents\n",
    "    env_info = env.reset(train_mode=True)[brain_name]    \n",
    "    states = env_info.vector_observations\n",
    "    current_step_scores = np.zeros(num_agents)    \n",
    "    for _ in range(1000):\n",
    "        actions1, log_probs1, _, values1 = agent1.policy(states[0])\n",
    "        actions2, log_probs2, _, values2 = agent2.policy(states[1])\n",
    "        actions = torch.cat((actions1,actions2))\n",
    "        env_info = env.step(actions.cpu().detach().numpy())[brain_name]\n",
    "        next_states = env_info.vector_observations\n",
    "        current_step_scores += env_info.rewards\n",
    "        states = next_states\n",
    "        dones = env_info.local_done                        # see if episode finished\n",
    "        if np.any(dones):                                  # exit loop if episode finished\n",
    "                break\n",
    "\n",
    "    max_score_at_this_step = np.max(current_step_scores)\n",
    "    all_mean_scores.append(np.mean(max_score_at_this_step))\n",
    "    if(i%50 == 0):\n",
    "        print('Ep {}:Score: {}, Last 100 Rolling {} Best {} Best Last 100 {}'.format(i,max_score_at_this_step,np.mean(all_mean_scores[-100:]),np.max(all_mean_scores),np.max(all_mean_scores[-100:])))\n",
    "\n",
    "    if(np.mean(all_mean_scores[-100:]) >= 30.0 and len(all_mean_scores) >= 100 ):\n",
    "        print('Episode {}: Average Score: {}, Last 100 Rolling Average {}'.format(i,max_score_at_this_step,np.mean(all_mean_scores[-100:])))\n",
    "        print(\"Environment is solved\")\n",
    "        break"
   ]
  },
  {
   "cell_type": "code",
   "execution_count": null,
   "metadata": {},
   "outputs": [],
   "source": [
    "np.mean(all_mean_scores[-100:])"
   ]
  },
  {
   "cell_type": "code",
   "execution_count": null,
   "metadata": {},
   "outputs": [],
   "source": [
    "def generate_trajectories():\n",
    "    rollout = []\n",
    "    rollout_length = 600\n",
    "    \n",
    "    \n",
    "    for j in range(20):\n",
    "        env_info = env.reset(train_mode=True)[brain_name]    \n",
    "        states = env_info.vector_observations\n",
    "        scores = np.zeros(num_agents)    \n",
    "        for _ in range(rollout_length):\n",
    "            #states_tensor = torch.Tensor(states,device=device).cuda()\n",
    "            actions, log_probs, _, values = test_agent.policy(states)\n",
    "            env_info = env.step(actions.cpu().detach().numpy())[brain_name]\n",
    "            next_states = env_info.vector_observations\n",
    "            rewards = env_info.rewards\n",
    "            terminals = np.array([1 if t else 0 for t in env_info.local_done])\n",
    "            scores += env_info.rewards\n",
    "            rollout.append([states, values.detach(), actions.detach(), log_probs.detach(), rewards, 1 - terminals])\n",
    "            states = next_states\n",
    "\n",
    "            dones = env_info.local_done                        # see if episode finished\n",
    "            if np.any(dones):                                  # exit loop if episode finished\n",
    "                break\n",
    "\n",
    "    pending_value = policy(states)[-1]\n",
    "    rollout.append([states, pending_value, None, None, None, None])\n",
    "    \n",
    "    #Now that we have generated some trajectories\n",
    "    processed_rollout = [None] * (len(rollout) - 1)\n",
    "    advantages = torch.Tensor(np.zeros((2, 1))).to(device)\n",
    "    returns = pending_value.detach()\n",
    "    \n",
    "    discount_rate = 0.99\n",
    "    tau = 0.99\n",
    "    for i in reversed(range(len(rollout) - 1)):\n",
    "        states, value, actions, log_probs, rewards, terminals = rollout[i]\n",
    "        terminals = torch.Tensor(terminals).unsqueeze(1).to(device)\n",
    "        rewards = torch.Tensor(rewards).unsqueeze(1).to(device)\n",
    "        actions = actions\n",
    "        states = torch.Tensor(states).to(device)\n",
    "        next_value = rollout[i + 1][1]\n",
    "        returns = rewards + discount_rate * terminals * returns\n",
    "\n",
    "        td_error = rewards + discount_rate * terminals * next_value.detach() - value.detach()\n",
    "        advantages = advantages * tau * discount_rate * terminals + td_error\n",
    "        processed_rollout[i] = [states, actions, log_probs, returns, advantages]\n",
    "    \n",
    "    processed_states,processed_actions,processed_log_probs,processed_returns,processed_adv = zip(*processed_rollout)\n",
    " \n",
    "    #Convert into tensors\n",
    "    processed_states = torch.cat(processed_states,dim=0)\n",
    "    processed_actions = torch.cat(processed_actions,dim=0)\n",
    "    processed_log_probs = torch.cat(processed_log_probs,dim=0)\n",
    "    processed_returns = torch.cat(processed_returns,dim=0)\n",
    "    processed_adv = torch.cat(processed_adv,dim=0)\n",
    "    return processed_states,processed_actions,processed_log_probs,processed_returns,processed_adv,np.mean(scores)"
   ]
  },
  {
   "cell_type": "code",
   "execution_count": null,
   "metadata": {},
   "outputs": [],
   "source": [
    "tps,tpa,tlg,tr,tv,tms = generate_trajectories()"
   ]
  },
  {
   "cell_type": "code",
   "execution_count": null,
   "metadata": {},
   "outputs": [],
   "source": [
    "tpa"
   ]
  },
  {
   "cell_type": "code",
   "execution_count": null,
   "metadata": {},
   "outputs": [],
   "source": [
    "def optimize(sampled_states,sampled_actions,sampled_log_probs,sampled_returns,sampled_advantages):\n",
    "    _, log_probs, entropy_loss, values = policy(sampled_states, sampled_actions)\n",
    "    entropy_loss = torch.Tensor(np.zeros((log_probs.size(0), 1))).to(device)\n",
    "    ratio = (log_probs - sampled_log_probs).exp()\n",
    "    #print(ratio)\n",
    "    obj = ratio * sampled_advantages\n",
    "    obj_clipped = ratio.clamp(1.0 - 0.2,\n",
    "                           1.0 + 0.2) * sampled_advantages\n",
    "    #print(obj_clipped)\n",
    "    policy_loss = -torch.min(obj, obj_clipped).mean(0) - 0.02 * entropy_loss.mean()\n",
    "    #print(policy_loss)\n",
    "    value_loss = 0.5 * (sampled_returns - values).pow(2).mean()\n",
    "    #print(value_loss)\n",
    "\n",
    "    optimizer.zero_grad()\n",
    "    (policy_loss + value_loss).backward()\n",
    "    #nn.utils.clip_grad_norm_(self.network.parameters(), hyperparameters['gradient_clip'])\n",
    "    optimizer.step()"
   ]
  },
  {
   "cell_type": "code",
   "execution_count": null,
   "metadata": {},
   "outputs": [],
   "source": [
    "num_training_steps = 100\n",
    "num_epochs_per_step = 5\n",
    "all_mean_scores = []\n",
    "for i in range(num_training_steps):\n",
    "    step_states,step_actions,step_log_probs,step_rewards,step_advantages,mean_score = generate_trajectories()\n",
    "    for j in range(num_epochs_per_step):\n",
    "        shuffled_indices = np.arange(step_states.size(0))\n",
    "        np.random.shuffle(shuffled_indices)\n",
    "        \n",
    "        minibatch_size = 16\n",
    "        num_minibatches = step_states.size(0) // minibatch_size\n",
    "        for z in range(minibatch_size):\n",
    "            minibatch_indices = shuffled_indices[z*minibatch_size:(z+1)*minibatch_size]\n",
    "            optimize(step_states[minibatch_indices],step_actions[minibatch_indices],step_log_probs[minibatch_indices],step_rewards[minibatch_indices],step_advantages[minibatch_indices])\n",
    "    \n",
    "    #Now simulate using the current policy and calculate the average score across all 20 agents\n",
    "    env_info = env.reset(train_mode=True)[brain_name]    \n",
    "    states = env_info.vector_observations\n",
    "    current_step_scores = np.zeros(num_agents)    \n",
    "    for _ in range(1000):\n",
    "        actions, log_probs, _, values = policy(states)\n",
    "        env_info = env.step(actions.cpu().detach().numpy())[brain_name]\n",
    "        next_states = env_info.vector_observations\n",
    "        current_step_scores += env_info.rewards\n",
    "        states = next_states\n",
    "        dones = env_info.local_done                        # see if episode finished\n",
    "        if np.any(dones):                                  # exit loop if episode finished\n",
    "                break\n",
    "\n",
    "    max_score_at_this_step = np.max(current_step_scores)\n",
    "    all_mean_scores.append(np.mean(max_score_at_this_step))\n",
    "    if(i%1 == 0):\n",
    "        print('Episode {}: Average Score: {}, Last 100 Rolling Average {}'.format(i,max_score_at_this_step,np.mean(all_mean_scores[-100:])))\n",
    "\n",
    "    if(np.mean(all_mean_scores[-100:]) >= 30.0 and len(all_mean_scores) >= 100 ):\n",
    "        print('Episode {}: Average Score: {}, Last 100 Rolling Average {}'.format(i,max_score_at_this_step,np.mean(all_mean_scores[-100:])))\n",
    "        print(\"Environment is solved\")\n",
    "        break\n",
    "        \n",
    "    #print('Total score (averaged over agents) this episode: {}'.format(np.mean(current_step_scores)))\n",
    "    #print('Average score over the last 100 episodes: {}'.format(np.mean(all_mean_scores[-100:])))"
   ]
  },
  {
   "cell_type": "code",
   "execution_count": null,
   "metadata": {},
   "outputs": [],
   "source": [
    "env_info = env.reset(train_mode=False)[brain_name]\n",
    "for i in range(1000):\n",
    "    t_s = env_info.vector_observations                  # get the current state (for each agent)\n",
    "    t_a,_,_,_ = policy(t_s)\n",
    "    env_info = env.step(t_a.cpu().detach().numpy())[brain_name]\n",
    "    t_n_s  = env_info.vector_observations\n",
    "    t_d = env_info.local_done\n",
    "    if(np.any(t_d)):\n",
    "        print(\"DONE\")\n",
    "        #break;\n",
    "        \n",
    "    if(i % 100 == 0):\n",
    "        print(t_s)\n",
    "        print(t_a)\n",
    "    t_s = t_n_s"
   ]
  },
  {
   "cell_type": "code",
   "execution_count": null,
   "metadata": {},
   "outputs": [],
   "source": []
  }
 ],
 "metadata": {
  "kernelspec": {
   "display_name": "Python 3",
   "language": "python",
   "name": "python3"
  },
  "language_info": {
   "codemirror_mode": {
    "name": "ipython",
    "version": 3
   },
   "file_extension": ".py",
   "mimetype": "text/x-python",
   "name": "python",
   "nbconvert_exporter": "python",
   "pygments_lexer": "ipython3",
   "version": "3.6.7"
  }
 },
 "nbformat": 4,
 "nbformat_minor": 2
}
