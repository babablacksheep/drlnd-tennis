{
 "cells": [
  {
   "cell_type": "markdown",
   "metadata": {},
   "source": [
    "# Collaboration and Competition\n",
    "\n",
    "---\n",
    "\n",
    "In this notebook, you will learn how to use the Unity ML-Agents environment for the third project of the [Deep Reinforcement Learning Nanodegree](https://www.udacity.com/course/deep-reinforcement-learning-nanodegree--nd893) program.\n",
    "\n",
    "### 1. Start the Environment\n",
    "\n",
    "We begin by importing the necessary packages.  If the code cell below returns an error, please revisit the project instructions to double-check that you have installed [Unity ML-Agents](https://github.com/Unity-Technologies/ml-agents/blob/master/docs/Installation.md) and [NumPy](http://www.numpy.org/)."
   ]
  },
  {
   "cell_type": "code",
   "execution_count": 1,
   "metadata": {},
   "outputs": [],
   "source": [
    "from unityagents import UnityEnvironment\n",
    "import numpy as np"
   ]
  },
  {
   "cell_type": "markdown",
   "metadata": {},
   "source": [
    "Next, we will start the environment!  **_Before running the code cell below_**, change the `file_name` parameter to match the location of the Unity environment that you downloaded.\n",
    "\n",
    "- **Mac**: `\"path/to/Tennis.app\"`\n",
    "- **Windows** (x86): `\"path/to/Tennis_Windows_x86/Tennis.exe\"`\n",
    "- **Windows** (x86_64): `\"path/to/Tennis_Windows_x86_64/Tennis.exe\"`\n",
    "- **Linux** (x86): `\"path/to/Tennis_Linux/Tennis.x86\"`\n",
    "- **Linux** (x86_64): `\"path/to/Tennis_Linux/Tennis.x86_64\"`\n",
    "- **Linux** (x86, headless): `\"path/to/Tennis_Linux_NoVis/Tennis.x86\"`\n",
    "- **Linux** (x86_64, headless): `\"path/to/Tennis_Linux_NoVis/Tennis.x86_64\"`\n",
    "\n",
    "For instance, if you are using a Mac, then you downloaded `Tennis.app`.  If this file is in the same folder as the notebook, then the line below should appear as follows:\n",
    "```\n",
    "env = UnityEnvironment(file_name=\"Tennis.app\")\n",
    "```"
   ]
  },
  {
   "cell_type": "code",
   "execution_count": 2,
   "metadata": {},
   "outputs": [
    {
     "name": "stderr",
     "output_type": "stream",
     "text": [
      "INFO:unityagents:\n",
      "'Academy' started successfully!\n",
      "Unity Academy name: Academy\n",
      "        Number of Brains: 1\n",
      "        Number of External Brains : 1\n",
      "        Lesson number : 0\n",
      "        Reset Parameters :\n",
      "\t\t\n",
      "Unity brain name: TennisBrain\n",
      "        Number of Visual Observations (per agent): 0\n",
      "        Vector Observation space type: continuous\n",
      "        Vector Observation space size (per agent): 8\n",
      "        Number of stacked Vector Observation: 3\n",
      "        Vector Action space type: continuous\n",
      "        Vector Action space size (per agent): 2\n",
      "        Vector Action descriptions: , \n"
     ]
    }
   ],
   "source": [
    "env = UnityEnvironment(file_name=\"../Tennis.app\")"
   ]
  },
  {
   "cell_type": "markdown",
   "metadata": {},
   "source": [
    "Environments contain **_brains_** which are responsible for deciding the actions of their associated agents. Here we check for the first brain available, and set it as the default brain we will be controlling from Python."
   ]
  },
  {
   "cell_type": "code",
   "execution_count": 3,
   "metadata": {},
   "outputs": [],
   "source": [
    "# get the default brain\n",
    "brain_name = env.brain_names[0]\n",
    "brain = env.brains[brain_name]"
   ]
  },
  {
   "cell_type": "markdown",
   "metadata": {},
   "source": [
    "### 2. Examine the State and Action Spaces\n",
    "\n",
    "In this environment, two agents control rackets to bounce a ball over a net. If an agent hits the ball over the net, it receives a reward of +0.1.  If an agent lets a ball hit the ground or hits the ball out of bounds, it receives a reward of -0.01.  Thus, the goal of each agent is to keep the ball in play.\n",
    "\n",
    "The observation space consists of 8 variables corresponding to the position and velocity of the ball and racket. Two continuous actions are available, corresponding to movement toward (or away from) the net, and jumping. \n",
    "\n",
    "Run the code cell below to print some information about the environment."
   ]
  },
  {
   "cell_type": "code",
   "execution_count": 4,
   "metadata": {},
   "outputs": [
    {
     "name": "stdout",
     "output_type": "stream",
     "text": [
      "Number of agents: 2\n",
      "Size of each action: 2\n",
      "There are 2 agents. Each observes a state with length: 24\n",
      "The state for the first agent looks like: [ 0.          0.          0.          0.          0.          0.\n",
      "  0.          0.          0.          0.          0.          0.\n",
      "  0.          0.          0.          0.         -6.65278625 -1.5\n",
      " -0.          0.          6.83172083  6.         -0.          0.        ]\n"
     ]
    }
   ],
   "source": [
    "# reset the environment\n",
    "env_info = env.reset(train_mode=True)[brain_name]\n",
    "import time\n",
    "# number of agents \n",
    "num_agents = len(env_info.agents)\n",
    "print('Number of agents:', num_agents)\n",
    "\n",
    "# size of each action\n",
    "action_size = brain.vector_action_space_size\n",
    "print('Size of each action:', action_size)\n",
    "\n",
    "# examine the state space \n",
    "states = env_info.vector_observations\n",
    "state_size = states.shape[1]\n",
    "print('There are {} agents. Each observes a state with length: {}'.format(states.shape[0], state_size))\n",
    "print('The state for the first agent looks like:', states[0])"
   ]
  },
  {
   "cell_type": "markdown",
   "metadata": {},
   "source": [
    "### 3. Take Random Actions in the Environment\n",
    "\n",
    "In the next code cell, you will learn how to use the Python API to control the agents and receive feedback from the environment.\n",
    "\n",
    "Once this cell is executed, you will watch the agents' performance, if they select actions at random with each time step.  A window should pop up that allows you to observe the agents.\n",
    "\n",
    "Of course, as part of the project, you'll have to change the code so that the agents are able to use their experiences to gradually choose better actions when interacting with the environment!"
   ]
  },
  {
   "cell_type": "code",
   "execution_count": 5,
   "metadata": {},
   "outputs": [
    {
     "ename": "AttributeError",
     "evalue": "'float' object has no attribute 'shape'",
     "output_type": "error",
     "traceback": [
      "\u001b[0;31m---------------------------------------------------------------------------\u001b[0m",
      "\u001b[0;31mAttributeError\u001b[0m                            Traceback (most recent call last)",
      "\u001b[0;32m<ipython-input-5-0ad7ba9329b8>\u001b[0m in \u001b[0;36m<module>\u001b[0;34m\u001b[0m\n\u001b[1;32m      9\u001b[0m         \u001b[0mnext_states\u001b[0m \u001b[0;34m=\u001b[0m \u001b[0menv_info\u001b[0m\u001b[0;34m.\u001b[0m\u001b[0mvector_observations\u001b[0m         \u001b[0;31m# get next state (for each agent)\u001b[0m\u001b[0;34m\u001b[0m\u001b[0m\n\u001b[1;32m     10\u001b[0m         \u001b[0mrewards\u001b[0m \u001b[0;34m=\u001b[0m \u001b[0menv_info\u001b[0m\u001b[0;34m.\u001b[0m\u001b[0mrewards\u001b[0m                         \u001b[0;31m# get reward (for each agent)\u001b[0m\u001b[0;34m\u001b[0m\u001b[0m\n\u001b[0;32m---> 11\u001b[0;31m         \u001b[0mprint\u001b[0m\u001b[0;34m(\u001b[0m\u001b[0mrewards\u001b[0m\u001b[0;34m[\u001b[0m\u001b[0;36m0\u001b[0m\u001b[0;34m]\u001b[0m\u001b[0;34m.\u001b[0m\u001b[0mshape\u001b[0m\u001b[0;34m)\u001b[0m\u001b[0;34m\u001b[0m\u001b[0m\n\u001b[0m\u001b[1;32m     12\u001b[0m         \u001b[0mdones\u001b[0m \u001b[0;34m=\u001b[0m \u001b[0menv_info\u001b[0m\u001b[0;34m.\u001b[0m\u001b[0mlocal_done\u001b[0m                        \u001b[0;31m# see if episode finished\u001b[0m\u001b[0;34m\u001b[0m\u001b[0m\n\u001b[1;32m     13\u001b[0m         \u001b[0mscores\u001b[0m \u001b[0;34m+=\u001b[0m \u001b[0menv_info\u001b[0m\u001b[0;34m.\u001b[0m\u001b[0mrewards\u001b[0m                         \u001b[0;31m# update the score (for each agent)\u001b[0m\u001b[0;34m\u001b[0m\u001b[0m\n",
      "\u001b[0;31mAttributeError\u001b[0m: 'float' object has no attribute 'shape'"
     ]
    }
   ],
   "source": [
    "for i in range(1, 3):                                      # play game for 5 episodes\n",
    "    env_info = env.reset(train_mode=False)[brain_name]     # reset the environment    \n",
    "    states = env_info.vector_observations                  # get the current state (for each agent)\n",
    "    scores = np.zeros(num_agents)                          # initialize the score (for each agent)\n",
    "    while True:\n",
    "        actions = np.random.randn(num_agents, action_size) # select an action (for each agent)\n",
    "        actions = np.clip(actions, -1, 1)                  # all actions between -1 and 1\n",
    "        env_info = env.step(actions)[brain_name]           # send all actions to tne environment\n",
    "        next_states = env_info.vector_observations         # get next state (for each agent)\n",
    "        rewards = env_info.rewards                         # get reward (for each agent)\n",
    "        dones = env_info.local_done                        # see if episode finished\n",
    "        scores += env_info.rewards                         # update the score (for each agent)\n",
    "        states = next_states                               # roll over states to next time step\n",
    "        #print(scores)\n",
    "        time.sleep(0.25)\n",
    "        if np.any(dones):                                  # exit loop if episode finished\n",
    "            print(\"DONE\")\n",
    "            break\n",
    "    print('Score (max over agents) from episode {}: {}'.format(i, np.max(scores)))"
   ]
  },
  {
   "cell_type": "markdown",
   "metadata": {},
   "source": [
    "When finished, you can close the environment."
   ]
  },
  {
   "cell_type": "code",
   "execution_count": null,
   "metadata": {},
   "outputs": [],
   "source": [
    "env.close()"
   ]
  },
  {
   "cell_type": "markdown",
   "metadata": {},
   "source": [
    "### 4. It's Your Turn!\n",
    "\n",
    "Now it's your turn to train your own agent to solve the environment!  When training the environment, set `train_mode=True`, so that the line for resetting the environment looks like the following:\n",
    "```python\n",
    "env_info = env.reset(train_mode=True)[brain_name]\n",
    "```"
   ]
  },
  {
   "cell_type": "markdown",
   "metadata": {},
   "source": [
    "Start off with PPO and see how it goes. Use one PPO for each agent. Split things so that when we collect trajectories, we have a shared buffer that trains the full network"
   ]
  },
  {
   "cell_type": "code",
   "execution_count": 9,
   "metadata": {},
   "outputs": [],
   "source": [
    "# First create the neural network powering our agent\n",
    "import torch\n",
    "import torch.nn as nn\n",
    "import torch.nn.functional as F\n",
    "\n",
    "device = torch.device(\"cuda:0\" if torch.cuda.is_available() else \"cpu\")\n",
    "\n",
    "class Policy(nn.Module):\n",
    "\n",
    "    def __init__(self):\n",
    "        super(Policy, self).__init__()\n",
    "     \n",
    "        self.size = 24\n",
    "        self.fc1 = nn.Linear(self.size, 512)\n",
    "        self.fc2 = nn.Linear(512, 256)\n",
    "        self.fc3 = nn.Linear(256, 2)\n",
    "        \n",
    "        self.critic_fc1 = nn.Linear(self.size,512)\n",
    "        self.critic_fc2 = nn.Linear(512,256)\n",
    "        self.critic_fc3 = nn.Linear(256,1)\n",
    "        self.normalDistParams = torch.ones((1,2),device=device)\n",
    "        self.to(device)\n",
    "        \n",
    "    def forward(self, x,sampled_actions=None):\n",
    "        a  = torch.tensor(x,dtype=torch.float,device=device)\n",
    "        a = F.relu(self.fc1(a))\n",
    "        a = F.relu(self.fc2(a))\n",
    "        a = F.tanh(self.fc3(a))\n",
    "        \n",
    "        v = torch.tensor(x,dtype=torch.float,device=device)\n",
    "        v = F.relu(self.critic_fc1(v))\n",
    "        v = F.relu(self.critic_fc2(v))\n",
    "        v = self.critic_fc3(v)\n",
    "        \n",
    "       \n",
    "        #x is now the mean of a normal distribution from which we\n",
    "        #sample the actual action values\n",
    "        prob_dists = torch.distributions.Normal(a,self.normalDistParams)\n",
    "        if sampled_actions is None:\n",
    "            sampled_actions = prob_dists.sample()\n",
    "        action_probabilities = prob_dists.log_prob(sampled_actions) #Prob of each individual action\n",
    "        summed_action_probabilities = torch.sum(action_probabilities,dim=-1,keepdim=True)\n",
    "        return sampled_actions,summed_action_probabilities,x,v\n",
    "        \n",
    "\n",
    "\n",
    "# run your own policy!\n",
    "#policy=Policy().to(device)\n",
    "\n",
    "#optimizer = optim.Adam(policy.parameters(), lr=3e-4)"
   ]
  },
  {
   "cell_type": "code",
   "execution_count": 10,
   "metadata": {},
   "outputs": [],
   "source": [
    "import torch.optim as optim"
   ]
  },
  {
   "cell_type": "code",
   "execution_count": 13,
   "metadata": {},
   "outputs": [],
   "source": [
    "class PPOAgent():\n",
    "    \n",
    "    def __init__(self):\n",
    "        self.policy = Policy().to(device)\n",
    "        self.optimizer = optim.Adam(self.policy.parameters(),lr=3e-4)\n",
    "    \n",
    "    def optimize(self, sampled_states,sampled_actions,sampled_log_probs,sampled_returns,sampled_advantages):\n",
    "        _, log_probs, entropy_loss, values = self.policy(sampled_states, sampled_actions)\n",
    "        entropy_loss = torch.Tensor(np.zeros((log_probs.size(0), 1))).to(device)\n",
    "        ratio = (log_probs - sampled_log_probs).exp()\n",
    "        #print(ratio)\n",
    "        obj = ratio * sampled_advantages\n",
    "        obj_clipped = ratio.clamp(1.0 - 0.2,\n",
    "                               1.0 + 0.2) * sampled_advantages\n",
    "        #print(obj_clipped)\n",
    "        policy_loss = -torch.min(obj, obj_clipped).mean(0) - 0.02 * entropy_loss.mean()\n",
    "        #print(policy_loss)\n",
    "        value_loss = 0.5 * (sampled_returns - values).pow(2).mean()\n",
    "        #print(value_loss)\n",
    "\n",
    "        self.optimizer.zero_grad()\n",
    "        (policy_loss + value_loss).backward()\n",
    "        self.optimizer.step()"
   ]
  },
  {
   "cell_type": "code",
   "execution_count": 14,
   "metadata": {},
   "outputs": [],
   "source": [
    "test_agent = PPOAgent()"
   ]
  },
  {
   "cell_type": "code",
   "execution_count": 15,
   "metadata": {},
   "outputs": [],
   "source": [
    "agent1 = PPOAgent()\n",
    "agent2 = PPOAgent()"
   ]
  },
  {
   "cell_type": "code",
   "execution_count": 16,
   "metadata": {},
   "outputs": [],
   "source": [
    "agetn1act,_,_,_ = agent1.policy(states[0])"
   ]
  },
  {
   "cell_type": "code",
   "execution_count": 17,
   "metadata": {},
   "outputs": [
    {
     "data": {
      "text/plain": [
       "tensor([[-0.9431, -0.0192]])"
      ]
     },
     "execution_count": 17,
     "metadata": {},
     "output_type": "execute_result"
    }
   ],
   "source": [
    "agetn1act"
   ]
  },
  {
   "cell_type": "code",
   "execution_count": 18,
   "metadata": {},
   "outputs": [
    {
     "data": {
      "text/plain": [
       "tensor([[-0.9431, -0.0192],\n",
       "        [-0.9431, -0.0192]])"
      ]
     },
     "execution_count": 18,
     "metadata": {},
     "output_type": "execute_result"
    }
   ],
   "source": [
    "torch.cat((agetn1act,agetn1act))"
   ]
  },
  {
   "cell_type": "code",
   "execution_count": 19,
   "metadata": {},
   "outputs": [
    {
     "ename": "NameError",
     "evalue": "name 'test_next_states' is not defined",
     "output_type": "error",
     "traceback": [
      "\u001b[0;31m---------------------------------------------------------------------------\u001b[0m",
      "\u001b[0;31mNameError\u001b[0m                                 Traceback (most recent call last)",
      "\u001b[0;32m<ipython-input-19-8dd85c787745>\u001b[0m in \u001b[0;36m<module>\u001b[0;34m\u001b[0m\n\u001b[0;32m----> 1\u001b[0;31m \u001b[0mprint\u001b[0m\u001b[0;34m(\u001b[0m\u001b[0mtest_next_states\u001b[0m\u001b[0;34m)\u001b[0m\u001b[0;34m\u001b[0m\u001b[0m\n\u001b[0m",
      "\u001b[0;31mNameError\u001b[0m: name 'test_next_states' is not defined"
     ]
    }
   ],
   "source": [
    "print(test_next_states)"
   ]
  },
  {
   "cell_type": "code",
   "execution_count": 22,
   "metadata": {},
   "outputs": [],
   "source": [
    "def gen_traj_2():\n",
    "    agent1_rollout = []\n",
    "    agent2_rollout = []\n",
    "    rollout_length = 30\n",
    "    env_info = env.reset(train_mode=True)[brain_name]    \n",
    "    states = env_info.vector_observations\n",
    "    for _ in range(rollout_length):\n",
    "        #states_tensor = torch.Tensor(states,device=device).cuda()\n",
    "        actions1, log_probs1, _, values1 = agent1.policy(states[0])\n",
    "        actions2, log_probs2, _, values2 = agent2.policy(states[1])\n",
    "        \n",
    "        actions = torch.cat((actions1,actions2))\n",
    "        values = torch.cat((values1,values2))\n",
    "        log_probs = torch.cat((log_probs1,log_probs2))\n",
    "        #actions, log_probs, _, values = test_agent.policy(states)\n",
    "        env_info = env.step(actions.cpu().detach().numpy())[brain_name]\n",
    "        next_states = env_info.vector_observations\n",
    "        rewards = env_info.rewards\n",
    "        terminals = np.array([1 if t else 0 for t in env_info.local_done])\n",
    "        #scores += env_info.rewards\n",
    "        #rollout.append([states, values.detach(), actions.detach(), log_probs.detach(), rewards, 1 - terminals])\n",
    "        agent1_rollout.append([states[0],values1.detach(),actions1.detach(),log_probs1.detach(),rewards[0],1-terminals])\n",
    "        agent2_rollout.append([states[1],values2.detach(),actions2.detach(),log_probs2.detach(),rewards[1],1-terminals])\n",
    "        states = next_states\n",
    "\n",
    "        dones = env_info.local_done                        # see if episode finished\n",
    "        if np.any(dones):                                  # exit loop if episode finished\n",
    "            break\n",
    "        \n",
    "    pending_value1 = agent1.policy(states[0])[-1]\n",
    "    pending_value2 = agent2.policy(states[1])[-1]\n",
    "\n",
    "\n",
    "    agent1_rollout.append([states[0], pending_value1, None, None, None, None])\n",
    "    agent2_rollout.append([states[0], pending_value2, None, None, None, None])\n",
    "\n",
    "\n",
    "    return agent1_rollout,agent2_rollout\n"
   ]
  },
  {
   "cell_type": "code",
   "execution_count": 23,
   "metadata": {},
   "outputs": [],
   "source": [
    "test_rollout1,test_rollout2 = gen_traj_2()"
   ]
  },
  {
   "cell_type": "code",
   "execution_count": 24,
   "metadata": {},
   "outputs": [
    {
     "data": {
      "text/plain": [
       "[[array([ 0.        ,  0.        ,  0.        ,  0.        ,  0.        ,\n",
       "          0.        ,  0.        ,  0.        ,  0.        ,  0.        ,\n",
       "          0.        ,  0.        ,  0.        ,  0.        ,  0.        ,\n",
       "          0.        , -6.24261761, -1.5       , -0.        ,  0.        ,\n",
       "          6.83172083,  5.58798027, -0.        ,  0.        ]),\n",
       "  tensor(1.00000e-02 *\n",
       "         [ 2.6326]),\n",
       "  tensor([[ 0.6556, -1.8228]]),\n",
       "  tensor([[-3.8677]]),\n",
       "  0.0,\n",
       "  array([1, 1])],\n",
       " [array([ 0.        ,  0.        ,  0.        ,  0.        ,  0.        ,\n",
       "          0.        ,  0.        ,  0.        , -6.24261761, -1.5       ,\n",
       "         -0.        ,  0.        ,  6.83172083,  5.58798027, -0.        ,\n",
       "          0.        , -4.27580738, -1.55886006, 19.66809654, -0.98100001,\n",
       "          6.83172083,  5.25444031, 19.66809654, -0.98100001]),\n",
       "  tensor(1.00000e-02 *\n",
       "         [-6.8100]),\n",
       "  tensor([[ 1.9395,  0.4629]]),\n",
       "  tensor([[-2.6873]]),\n",
       "  0.0,\n",
       "  array([1, 1])],\n",
       " [array([-6.24261761, -1.5       , -0.        ,  0.        ,  6.83172083,\n",
       "          5.58798027, -0.        ,  0.        , -4.27580738, -1.55886006,\n",
       "         19.66809654, -0.98100001,  6.83172083,  5.25444031, 19.66809654,\n",
       "         -0.98100001, -1.2758081 , -1.71581995, 30.        , -1.96200001,\n",
       "          6.83172083,  4.82280064, 30.        , -1.96200001]),\n",
       "  tensor([ 0.2452]),\n",
       "  tensor([[-0.0217, -1.5562]]),\n",
       "  tensor([[-4.7501]]),\n",
       "  0.0,\n",
       "  array([1, 1])],\n",
       " [array([-4.27580738, -1.55886006, 19.66809654, -0.98100001,  6.83172083,\n",
       "          5.25444031, 19.66809654, -0.98100001, -1.2758081 , -1.71581995,\n",
       "         30.        , -1.96200001,  6.83172083,  4.82280064, 30.        ,\n",
       "         -1.96200001, -1.34090471, -1.8523587 , -0.65097034,  0.        ,\n",
       "          6.83172083,  4.29306078, -0.65097034,  0.        ]),\n",
       "  tensor([-0.4594]),\n",
       "  tensor([[ 0.6782,  1.5417]]),\n",
       "  tensor([[-2.6244]]),\n",
       "  0.0,\n",
       "  array([1, 1])],\n",
       " [array([-1.2758081 , -1.71581995, 30.        , -1.96200001,  6.83172083,\n",
       "          4.82280064, 30.        , -1.96200001, -1.34090471, -1.8523587 ,\n",
       "         -0.65097034,  0.        ,  6.83172083,  4.29306078, -0.65097034,\n",
       "          0.        , -0.59305066, -1.18375075, 20.34746361,  6.41140032,\n",
       "          6.83172083,  3.66522074, 20.34746361,  6.41140032]),\n",
       "  tensor([ 0.4102]),\n",
       "  tensor([[-1.1291, -0.0533]]),\n",
       "  tensor([[-2.1481]]),\n",
       "  0.0,\n",
       "  array([1, 1])],\n",
       " [array([ -1.34090471,  -1.8523587 ,  -0.65097034,   0.        ,\n",
       "           6.83172083,   4.29306078,  -0.65097034,   0.        ,\n",
       "          -0.59305066,  -1.18375075,  20.34746361,   6.41140032,\n",
       "           6.83172083,   3.66522074,  20.34746361,   6.41140032,\n",
       "          -3.99999976,  -0.60147059, -30.        ,   5.43040085,\n",
       "           6.83172083,   2.93928099, -30.        ,   5.43040085]),\n",
       "  tensor([ 0.1837]),\n",
       "  tensor([[ 0.2554,  0.8253]]),\n",
       "  tensor([[-1.9479]]),\n",
       "  0.0,\n",
       "  array([1, 1])],\n",
       " [array([ -0.59305066,  -1.18375075,  20.34746361,   6.41140032,\n",
       "           6.83172083,   3.66522074,  20.34746361,   6.41140032,\n",
       "          -3.99999976,  -0.60147059, -30.        ,   5.43040085,\n",
       "           6.83172083,   2.93928099, -30.        ,   5.43040085,\n",
       "          -3.23384309,  -0.1172905 ,   7.66156721,   4.44940138,\n",
       "           6.83172083,   2.11524105,   7.66156721,   4.44940138]),\n",
       "  tensor([ 0.1176]),\n",
       "  tensor([[ 2.9755, -0.8330]]),\n",
       "  tensor([[-4.8413]]),\n",
       "  0.0,\n",
       "  array([1, 1])],\n",
       " [array([ -3.99999976,  -0.60147059, -30.        ,   5.43040085,\n",
       "           6.83172083,   2.93928099, -30.        ,   5.43040085,\n",
       "          -3.23384309,  -0.1172905 ,   7.66156721,   4.44940138,\n",
       "           6.83172083,   2.11524105,   7.66156721,   4.44940138,\n",
       "          -0.39999998,   0.26878965,  30.        ,   3.46840191,\n",
       "           7.25067186,   1.4997381 ,  30.        ,   3.46840191]),\n",
       "  tensor([ 0.6297]),\n",
       "  tensor([[-0.7948,  0.6912]]),\n",
       "  tensor([[-3.4409]]),\n",
       "  0.0,\n",
       "  array([1, 1])],\n",
       " [array([ -3.23384309,  -0.1172905 ,   7.66156721,   4.44940138,\n",
       "           6.83172083,   2.11524105,   7.66156721,   4.44940138,\n",
       "          -0.39999998,   0.26878965,  30.        ,   3.46840191,\n",
       "           7.25067186,   1.4997381 ,  30.        ,   3.46840191,\n",
       "          -3.38450766,   0.55676985, -23.84507751,   2.48740244,\n",
       "           8.15067101,   1.98802233, -23.84507751,   2.48740244]),\n",
       "  tensor(1.00000e-03 *\n",
       "         [ 5.6242]),\n",
       "  tensor([[ 0.5180,  0.3016]]),\n",
       "  tensor([[-2.0415]]),\n",
       "  0.0,\n",
       "  array([1, 1])],\n",
       " [array([ -0.39999998,   0.26878965,  30.        ,   3.46840191,\n",
       "           7.25067186,   1.4997381 ,  30.        ,   3.46840191,\n",
       "          -3.38450766,   0.55676985, -23.84507751,   2.48740244,\n",
       "           8.15067101,   1.98802233, -23.84507751,   2.48740244,\n",
       "          -1.83059907,   0.74665004,  15.53908157,   1.50640261,\n",
       "           9.05067253,   2.37820649,  15.53908157,   1.50640261]),\n",
       "  tensor([ 0.1660]),\n",
       "  tensor([[ 1.2097,  1.0554]]),\n",
       "  tensor([[-2.2000]]),\n",
       "  0.0,\n",
       "  array([1, 1])],\n",
       " [array([ -3.38450766,   0.55676985, -23.84507751,   2.48740244,\n",
       "           8.15067101,   1.98802233, -23.84507751,   2.48740244,\n",
       "          -1.83059907,   0.74665004,  15.53908157,   1.50640261,\n",
       "           9.05067253,   2.37820649,  15.53908157,   1.50640261,\n",
       "          -0.39999998,   0.83843029,  30.        ,   0.52540255,\n",
       "           9.95067406,   2.67029095,  30.        ,   0.52540255]),\n",
       "  tensor([ 0.3839]),\n",
       "  tensor([[ 1.2011, -0.6328]]),\n",
       "  tensor([[-2.8608]]),\n",
       "  0.0,\n",
       "  array([1, 1])],\n",
       " [array([-1.83059907,  0.74665004, 15.53908157,  1.50640261,  9.05067253,\n",
       "          2.37820649, 15.53908157,  1.50640261, -0.39999998,  0.83843029,\n",
       "         30.        ,  0.52540255,  9.95067406,  2.67029095, 30.        ,\n",
       "          0.52540255, -0.39999998,  0.83211046, 30.        , -0.45559746,\n",
       "         10.85067558,  2.86427522, 30.        , -0.45559746]),\n",
       "  tensor([-0.3480]),\n",
       "  tensor([[ 0.6518,  1.3779]]),\n",
       "  tensor([[-2.3712]]),\n",
       "  0.0,\n",
       "  array([1, 1])],\n",
       " [array([-0.39999998,  0.83843029, 30.        ,  0.52540255,  9.95067406,\n",
       "          2.67029095, 30.        ,  0.52540255, -0.39999998,  0.83211046,\n",
       "         30.        , -0.45559746, 10.85067558,  2.86427522, 30.        ,\n",
       "         -0.45559746, -0.60889727,  0.72769082, 19.55513382, -1.43659747,\n",
       "         11.75067711,  2.96015978, 19.55513382, -1.43659747]),\n",
       "  tensor([-0.5590]),\n",
       "  tensor([[-0.4125,  1.5229]]),\n",
       "  tensor([[-2.0537]]),\n",
       "  0.0,\n",
       "  array([0, 0])],\n",
       " [array([ 0.        ,  0.        ,  0.        ,  0.        ,  0.        ,\n",
       "          0.        ,  0.        ,  0.        ,  0.        ,  0.        ,\n",
       "          0.        ,  0.        ,  0.        ,  0.        ,  0.        ,\n",
       "          0.        , -6.59263992, -1.5       , -0.        ,  0.        ,\n",
       "          6.55063343,  5.96076012, -0.        ,  0.        ]),\n",
       "  tensor(1.00000e-02 *\n",
       "         [ 3.3264]),\n",
       "  None,\n",
       "  None,\n",
       "  None,\n",
       "  None]]"
      ]
     },
     "execution_count": 24,
     "metadata": {},
     "output_type": "execute_result"
    }
   ],
   "source": [
    "test_rollout1"
   ]
  },
  {
   "cell_type": "code",
   "execution_count": null,
   "metadata": {},
   "outputs": [],
   "source": [
    "def generate_training_data(rollout,idx):\n",
    "    #For each agent get the states, compute the rewards and also keep track of\n",
    "   \n",
    "    \n",
    "    #Now that we have generated some trajectories\n",
    "    processed_rollout = [None] * (len(rollout) - 1)\n",
    "    advantages = torch.Tensor(np.zeros((2, 1))).to(device)\n",
    "    returns = pending_value.detach()\n",
    "    #returns = 0\n",
    "    \n",
    "    discount_rate = 0.99\n",
    "    tau = 0.99\n",
    "    for i in reversed(range(len(rollout) - 1)):\n",
    "        states, value, actions, log_probs, rewards, terminals = rollout[i]\n",
    "        terminals = torch.Tensor(terminals).unsqueeze(1).to(device)\n",
    "        rewards = torch.Tensor(rewards).unsqueeze(1).to(device)\n",
    "        actions = actions\n",
    "        states = torch.Tensor(states).to(device)\n",
    "        next_value = rollout[i + 1][1]\n",
    "        returns = rewards + discount_rate * terminals * returns\n",
    "\n",
    "        td_error = rewards + discount_rate * terminals * next_value.detach() - value.detach()\n",
    "        advantages = advantages * tau * discount_rate * terminals + td_error\n",
    "        processed_rollout[i] = [states, actions, log_probs, returns, advantages]\n",
    "    \n",
    "    return processed_rollout\n",
    "    "
   ]
  },
  {
   "cell_type": "code",
   "execution_count": null,
   "metadata": {},
   "outputs": [],
   "source": [
    "tr_data = generate_training_data(test_rollout,1)"
   ]
  },
  {
   "cell_type": "code",
   "execution_count": null,
   "metadata": {},
   "outputs": [],
   "source": [
    "tr_data"
   ]
  },
  {
   "cell_type": "code",
   "execution_count": null,
   "metadata": {},
   "outputs": [],
   "source": [
    "def generate_trajectories():\n",
    "    rollout = []\n",
    "    rollout_length = 600\n",
    "    \n",
    "    \n",
    "    for j in range(20):\n",
    "        env_info = env.reset(train_mode=True)[brain_name]    \n",
    "        states = env_info.vector_observations\n",
    "        scores = np.zeros(num_agents)    \n",
    "        for _ in range(rollout_length):\n",
    "            #states_tensor = torch.Tensor(states,device=device).cuda()\n",
    "            actions, log_probs, _, values = test_agent.policy(states)\n",
    "            env_info = env.step(actions.cpu().detach().numpy())[brain_name]\n",
    "            next_states = env_info.vector_observations\n",
    "            rewards = env_info.rewards\n",
    "            terminals = np.array([1 if t else 0 for t in env_info.local_done])\n",
    "            scores += env_info.rewards\n",
    "            rollout.append([states, values.detach(), actions.detach(), log_probs.detach(), rewards, 1 - terminals])\n",
    "            states = next_states\n",
    "\n",
    "            dones = env_info.local_done                        # see if episode finished\n",
    "            if np.any(dones):                                  # exit loop if episode finished\n",
    "                break\n",
    "\n",
    "    pending_value = policy(states)[-1]\n",
    "    rollout.append([states, pending_value, None, None, None, None])\n",
    "    \n",
    "    #Now that we have generated some trajectories\n",
    "    processed_rollout = [None] * (len(rollout) - 1)\n",
    "    advantages = torch.Tensor(np.zeros((2, 1))).to(device)\n",
    "    returns = pending_value.detach()\n",
    "    \n",
    "    discount_rate = 0.99\n",
    "    tau = 0.99\n",
    "    for i in reversed(range(len(rollout) - 1)):\n",
    "        states, value, actions, log_probs, rewards, terminals = rollout[i]\n",
    "        terminals = torch.Tensor(terminals).unsqueeze(1).to(device)\n",
    "        rewards = torch.Tensor(rewards).unsqueeze(1).to(device)\n",
    "        actions = actions\n",
    "        states = torch.Tensor(states).to(device)\n",
    "        next_value = rollout[i + 1][1]\n",
    "        returns = rewards + discount_rate * terminals * returns\n",
    "\n",
    "        td_error = rewards + discount_rate * terminals * next_value.detach() - value.detach()\n",
    "        advantages = advantages * tau * discount_rate * terminals + td_error\n",
    "        processed_rollout[i] = [states, actions, log_probs, returns, advantages]\n",
    "    \n",
    "    processed_states,processed_actions,processed_log_probs,processed_returns,processed_adv = zip(*processed_rollout)\n",
    " \n",
    "    #Convert into tensors\n",
    "    processed_states = torch.cat(processed_states,dim=0)\n",
    "    processed_actions = torch.cat(processed_actions,dim=0)\n",
    "    processed_log_probs = torch.cat(processed_log_probs,dim=0)\n",
    "    processed_returns = torch.cat(processed_returns,dim=0)\n",
    "    processed_adv = torch.cat(processed_adv,dim=0)\n",
    "    return processed_states,processed_actions,processed_log_probs,processed_returns,processed_adv,np.mean(scores)"
   ]
  },
  {
   "cell_type": "code",
   "execution_count": null,
   "metadata": {},
   "outputs": [],
   "source": [
    "tps,tpa,tlg,tr,tv,tms = generate_trajectories()"
   ]
  },
  {
   "cell_type": "code",
   "execution_count": null,
   "metadata": {},
   "outputs": [],
   "source": [
    "tpa"
   ]
  },
  {
   "cell_type": "code",
   "execution_count": null,
   "metadata": {},
   "outputs": [],
   "source": [
    "def optimize(sampled_states,sampled_actions,sampled_log_probs,sampled_returns,sampled_advantages):\n",
    "    _, log_probs, entropy_loss, values = policy(sampled_states, sampled_actions)\n",
    "    entropy_loss = torch.Tensor(np.zeros((log_probs.size(0), 1))).to(device)\n",
    "    ratio = (log_probs - sampled_log_probs).exp()\n",
    "    #print(ratio)\n",
    "    obj = ratio * sampled_advantages\n",
    "    obj_clipped = ratio.clamp(1.0 - 0.2,\n",
    "                           1.0 + 0.2) * sampled_advantages\n",
    "    #print(obj_clipped)\n",
    "    policy_loss = -torch.min(obj, obj_clipped).mean(0) - 0.02 * entropy_loss.mean()\n",
    "    #print(policy_loss)\n",
    "    value_loss = 0.5 * (sampled_returns - values).pow(2).mean()\n",
    "    #print(value_loss)\n",
    "\n",
    "    optimizer.zero_grad()\n",
    "    (policy_loss + value_loss).backward()\n",
    "    #nn.utils.clip_grad_norm_(self.network.parameters(), hyperparameters['gradient_clip'])\n",
    "    optimizer.step()"
   ]
  },
  {
   "cell_type": "code",
   "execution_count": null,
   "metadata": {},
   "outputs": [],
   "source": [
    "num_training_steps = 100\n",
    "num_epochs_per_step = 5\n",
    "all_mean_scores = []\n",
    "for i in range(num_training_steps):\n",
    "    step_states,step_actions,step_log_probs,step_rewards,step_advantages,mean_score = generate_trajectories()\n",
    "    for j in range(num_epochs_per_step):\n",
    "        shuffled_indices = np.arange(step_states.size(0))\n",
    "        np.random.shuffle(shuffled_indices)\n",
    "        \n",
    "        minibatch_size = 16\n",
    "        num_minibatches = step_states.size(0) // minibatch_size\n",
    "        for z in range(minibatch_size):\n",
    "            minibatch_indices = shuffled_indices[z*minibatch_size:(z+1)*minibatch_size]\n",
    "            optimize(step_states[minibatch_indices],step_actions[minibatch_indices],step_log_probs[minibatch_indices],step_rewards[minibatch_indices],step_advantages[minibatch_indices])\n",
    "    \n",
    "    #Now simulate using the current policy and calculate the average score across all 20 agents\n",
    "    env_info = env.reset(train_mode=True)[brain_name]    \n",
    "    states = env_info.vector_observations\n",
    "    current_step_scores = np.zeros(num_agents)    \n",
    "    for _ in range(1000):\n",
    "        actions, log_probs, _, values = policy(states)\n",
    "        env_info = env.step(actions.cpu().detach().numpy())[brain_name]\n",
    "        next_states = env_info.vector_observations\n",
    "        current_step_scores += env_info.rewards\n",
    "        states = next_states\n",
    "        dones = env_info.local_done                        # see if episode finished\n",
    "        if np.any(dones):                                  # exit loop if episode finished\n",
    "                break\n",
    "\n",
    "\n",
    "    \n",
    "    max_score_at_this_step = np.max(current_step_scores)\n",
    "    all_mean_scores.append(np.mean(max_score_at_this_step))\n",
    "    if(i%1 == 0):\n",
    "        print('Episode {}: Average Score: {}, Last 100 Rolling Average {}'.format(i,max_score_at_this_step,np.mean(all_mean_scores[-100:])))\n",
    "\n",
    "    if(np.mean(all_mean_scores[-100:]) >= 30.0 and len(all_mean_scores) >= 100 ):\n",
    "        print('Episode {}: Average Score: {}, Last 100 Rolling Average {}'.format(i,max_score_at_this_step,np.mean(all_mean_scores[-100:])))\n",
    "        print(\"Environment is solved\")\n",
    "        break\n",
    "        \n",
    "    #print('Total score (averaged over agents) this episode: {}'.format(np.mean(current_step_scores)))\n",
    "    #print('Average score over the last 100 episodes: {}'.format(np.mean(all_mean_scores[-100:])))"
   ]
  },
  {
   "cell_type": "code",
   "execution_count": null,
   "metadata": {},
   "outputs": [],
   "source": [
    "env_info = env.reset(train_mode=False)[brain_name]\n",
    "for i in range(1000):\n",
    "    t_s = env_info.vector_observations                  # get the current state (for each agent)\n",
    "    t_a,_,_,_ = policy(t_s)\n",
    "    env_info = env.step(t_a.cpu().detach().numpy())[brain_name]\n",
    "    t_n_s  = env_info.vector_observations\n",
    "    t_d = env_info.local_done\n",
    "    if(np.any(t_d)):\n",
    "        print(\"DONE\")\n",
    "        #break;\n",
    "        \n",
    "    if(i % 100 == 0):\n",
    "        print(t_s)\n",
    "        print(t_a)\n",
    "    t_s = t_n_s"
   ]
  },
  {
   "cell_type": "code",
   "execution_count": null,
   "metadata": {},
   "outputs": [],
   "source": []
  }
 ],
 "metadata": {
  "kernelspec": {
   "display_name": "Python 3",
   "language": "python",
   "name": "python3"
  },
  "language_info": {
   "codemirror_mode": {
    "name": "ipython",
    "version": 3
   },
   "file_extension": ".py",
   "mimetype": "text/x-python",
   "name": "python",
   "nbconvert_exporter": "python",
   "pygments_lexer": "ipython3",
   "version": "3.6.6"
  }
 },
 "nbformat": 4,
 "nbformat_minor": 2
}
