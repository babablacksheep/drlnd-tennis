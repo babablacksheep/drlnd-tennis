{
 "cells": [
  {
   "cell_type": "markdown",
   "metadata": {},
   "source": [
    "# Collaboration and Competition\n",
    "\n",
    "---\n",
    "\n",
    "In this notebook, you will learn how to use the Unity ML-Agents environment for the third project of the [Deep Reinforcement Learning Nanodegree](https://www.udacity.com/course/deep-reinforcement-learning-nanodegree--nd893) program.\n",
    "\n",
    "### 1. Start the Environment\n",
    "\n",
    "We begin by importing the necessary packages.  If the code cell below returns an error, please revisit the project instructions to double-check that you have installed [Unity ML-Agents](https://github.com/Unity-Technologies/ml-agents/blob/master/docs/Installation.md) and [NumPy](http://www.numpy.org/)."
   ]
  },
  {
   "cell_type": "code",
   "execution_count": 1,
   "metadata": {},
   "outputs": [],
   "source": [
    "from unityagents import UnityEnvironment\n",
    "import numpy as np"
   ]
  },
  {
   "cell_type": "markdown",
   "metadata": {},
   "source": [
    "Next, we will start the environment!  **_Before running the code cell below_**, change the `file_name` parameter to match the location of the Unity environment that you downloaded.\n",
    "\n",
    "- **Mac**: `\"path/to/Tennis.app\"`\n",
    "- **Windows** (x86): `\"path/to/Tennis_Windows_x86/Tennis.exe\"`\n",
    "- **Windows** (x86_64): `\"path/to/Tennis_Windows_x86_64/Tennis.exe\"`\n",
    "- **Linux** (x86): `\"path/to/Tennis_Linux/Tennis.x86\"`\n",
    "- **Linux** (x86_64): `\"path/to/Tennis_Linux/Tennis.x86_64\"`\n",
    "- **Linux** (x86, headless): `\"path/to/Tennis_Linux_NoVis/Tennis.x86\"`\n",
    "- **Linux** (x86_64, headless): `\"path/to/Tennis_Linux_NoVis/Tennis.x86_64\"`\n",
    "\n",
    "For instance, if you are using a Mac, then you downloaded `Tennis.app`.  If this file is in the same folder as the notebook, then the line below should appear as follows:\n",
    "```\n",
    "env = UnityEnvironment(file_name=\"Tennis.app\")\n",
    "```"
   ]
  },
  {
   "cell_type": "code",
   "execution_count": 2,
   "metadata": {},
   "outputs": [
    {
     "name": "stderr",
     "output_type": "stream",
     "text": [
      "INFO:unityagents:\n",
      "'Academy' started successfully!\n",
      "Unity Academy name: Academy\n",
      "        Number of Brains: 1\n",
      "        Number of External Brains : 1\n",
      "        Lesson number : 0\n",
      "        Reset Parameters :\n",
      "\t\t\n",
      "Unity brain name: TennisBrain\n",
      "        Number of Visual Observations (per agent): 0\n",
      "        Vector Observation space type: continuous\n",
      "        Vector Observation space size (per agent): 8\n",
      "        Number of stacked Vector Observation: 3\n",
      "        Vector Action space type: continuous\n",
      "        Vector Action space size (per agent): 2\n",
      "        Vector Action descriptions: , \n"
     ]
    }
   ],
   "source": [
    "#env = UnityEnvironment(file_name=\"../Tennis.app\")\n",
    "env = UnityEnvironment(file_name=\"Tennis_Windows_x86_64/Tennis.exe\")"
   ]
  },
  {
   "cell_type": "markdown",
   "metadata": {},
   "source": [
    "Environments contain **_brains_** which are responsible for deciding the actions of their associated agents. Here we check for the first brain available, and set it as the default brain we will be controlling from Python."
   ]
  },
  {
   "cell_type": "code",
   "execution_count": 3,
   "metadata": {},
   "outputs": [],
   "source": [
    "# get the default brain\n",
    "brain_name = env.brain_names[0]\n",
    "brain = env.brains[brain_name]"
   ]
  },
  {
   "cell_type": "markdown",
   "metadata": {},
   "source": [
    "### 2. Examine the State and Action Spaces\n",
    "\n",
    "In this environment, two agents control rackets to bounce a ball over a net. If an agent hits the ball over the net, it receives a reward of +0.1.  If an agent lets a ball hit the ground or hits the ball out of bounds, it receives a reward of -0.01.  Thus, the goal of each agent is to keep the ball in play.\n",
    "\n",
    "The observation space consists of 8 variables corresponding to the position and velocity of the ball and racket. Two continuous actions are available, corresponding to movement toward (or away from) the net, and jumping. \n",
    "\n",
    "Run the code cell below to print some information about the environment."
   ]
  },
  {
   "cell_type": "code",
   "execution_count": 4,
   "metadata": {},
   "outputs": [
    {
     "name": "stdout",
     "output_type": "stream",
     "text": [
      "Number of agents: 2\n",
      "Size of each action: 2\n",
      "There are 2 agents. Each observes a state with length: 24\n",
      "The state for the first agent looks like: [ 0.          0.          0.          0.          0.          0.\n",
      "  0.          0.          0.          0.          0.          0.\n",
      "  0.          0.          0.          0.         -6.65278625 -1.5\n",
      " -0.          0.          6.83172083  6.         -0.          0.        ]\n"
     ]
    }
   ],
   "source": [
    "# reset the environment\n",
    "env_info = env.reset(train_mode=True)[brain_name]\n",
    "import time\n",
    "# number of agents \n",
    "num_agents = len(env_info.agents)\n",
    "print('Number of agents:', num_agents)\n",
    "\n",
    "# size of each action\n",
    "action_size = brain.vector_action_space_size\n",
    "print('Size of each action:', action_size)\n",
    "\n",
    "# examine the state space \n",
    "states = env_info.vector_observations\n",
    "state_size = states.shape[1]\n",
    "print('There are {} agents. Each observes a state with length: {}'.format(states.shape[0], state_size))\n",
    "print('The state for the first agent looks like:', states[0])"
   ]
  },
  {
   "cell_type": "markdown",
   "metadata": {},
   "source": [
    "### 3. Take Random Actions in the Environment\n",
    "\n",
    "In the next code cell, you will learn how to use the Python API to control the agents and receive feedback from the environment.\n",
    "\n",
    "Once this cell is executed, you will watch the agents' performance, if they select actions at random with each time step.  A window should pop up that allows you to observe the agents.\n",
    "\n",
    "Of course, as part of the project, you'll have to change the code so that the agents are able to use their experiences to gradually choose better actions when interacting with the environment!"
   ]
  },
  {
   "cell_type": "code",
   "execution_count": 5,
   "metadata": {},
   "outputs": [
    {
     "name": "stdout",
     "output_type": "stream",
     "text": [
      "Score (max over agents) from episode 1: 0.0\n",
      "Score (max over agents) from episode 2: 0.09000000171363354\n"
     ]
    }
   ],
   "source": [
    "for i in range(1, 3):                                      # play game for 5 episodes\n",
    "    env_info = env.reset(train_mode=False)[brain_name]     # reset the environment    \n",
    "    states = env_info.vector_observations                  # get the current state (for each agent)\n",
    "    scores = np.zeros(num_agents)                          # initialize the score (for each agent)\n",
    "    while True:\n",
    "        actions = np.random.randn(num_agents, action_size) # select an action (for each agent)\n",
    "        actions = np.clip(actions, -1, 1)                  # all actions between -1 and 1\n",
    "        env_info = env.step(actions)[brain_name]           # send all actions to tne environment\n",
    "        next_states = env_info.vector_observations         # get next state (for each agent)\n",
    "        rewards = env_info.rewards                         # get reward (for each agent)\n",
    "        dones = env_info.local_done                        # see if episode finished\n",
    "        scores += env_info.rewards                         # update the score (for each agent)\n",
    "        states = next_states                               # roll over states to next time step\n",
    "        if np.any(dones):                                  # exit loop if episode finished\n",
    "            break\n",
    "    print('Score (max over agents) from episode {}: {}'.format(i, np.max(scores)))"
   ]
  },
  {
   "cell_type": "markdown",
   "metadata": {},
   "source": [
    "When finished, you can close the environment."
   ]
  },
  {
   "cell_type": "code",
   "execution_count": null,
   "metadata": {},
   "outputs": [],
   "source": [
    "env.close()"
   ]
  },
  {
   "cell_type": "markdown",
   "metadata": {},
   "source": [
    "### 4. It's Your Turn!\n",
    "\n",
    "Now it's your turn to train your own agent to solve the environment!  When training the environment, set `train_mode=True`, so that the line for resetting the environment looks like the following:\n",
    "```python\n",
    "env_info = env.reset(train_mode=True)[brain_name]\n",
    "```"
   ]
  },
  {
   "cell_type": "markdown",
   "metadata": {},
   "source": [
    "Start off with PPO and see how it goes. Use one PPO for each agent. Split things so that when we collect trajectories, we have a shared buffer that trains the full network"
   ]
  },
  {
   "cell_type": "code",
   "execution_count": 6,
   "metadata": {},
   "outputs": [],
   "source": [
    "from maddpg_agents import DDPGAgent, MADDPG"
   ]
  },
  {
   "cell_type": "markdown",
   "metadata": {},
   "source": [
    "#### 4.1 Create the agents\n"
   ]
  },
  {
   "cell_type": "code",
   "execution_count": 7,
   "metadata": {},
   "outputs": [],
   "source": [
    "agent1 = DDPGAgent(state_size, action_size, random_seed = 2018)\n",
    "agent2 = DDPGAgent(state_size, action_size, random_seed = 2019)\n",
    "agents = MADDPG([agent1,agent2])\n",
    "import torch"
   ]
  },
  {
   "cell_type": "markdown",
   "metadata": {},
   "source": [
    "#### 4.2 Run the training loop\n",
    "\n",
    "Here at each step we first reset the environment, then get actions from each agent to play the game. The step ends when the \n",
    "\n",
    "Each experience is fed to the MADDPG agent, which stores it in its replay buffer. Every UPDATE_EVERY steps, the agent then samples from the replay buffer to learn.\n",
    "\n",
    "We're also keeping track of all the scores, and saving the parameters whenever we hit a new high score"
   ]
  },
  {
   "cell_type": "code",
   "execution_count": 8,
   "metadata": {},
   "outputs": [
    {
     "name": "stderr",
     "output_type": "stream",
     "text": [
      "c:\\users\\kvjos\\anaconda3\\envs\\drlnd2\\lib\\site-packages\\torch\\nn\\functional.py:995: UserWarning: nn.functional.tanh is deprecated. Use torch.tanh instead.\n",
      "  warnings.warn(\"nn.functional.tanh is deprecated. Use torch.tanh instead.\")\n"
     ]
    },
    {
     "name": "stdout",
     "output_type": "stream",
     "text": [
      "Episode 0\tAverage Score on 100 Episode: 0.000\n",
      "Episode 50\tAverage Score on 100 Episode: 0.002\n",
      "Episode 100\tAverage Score on 100 Episode: 0.006\n",
      "Episode 150\tAverage Score on 100 Episode: 0.009\n",
      "Episode 200\tAverage Score on 100 Episode: 0.006\n",
      "Episode 250\tAverage Score on 100 Episode: 0.007\n",
      "Episode 300\tAverage Score on 100 Episode: 0.007\n",
      "Episode 350\tAverage Score on 100 Episode: 0.007\n",
      "Episode 400\tAverage Score on 100 Episode: 0.013\n",
      "Episode 450\tAverage Score on 100 Episode: 0.012\n",
      "Episode 500\tAverage Score on 100 Episode: 0.008\n",
      "Episode 550\tAverage Score on 100 Episode: 0.012\n",
      "Episode 600\tAverage Score on 100 Episode: 0.013\n",
      "Episode 650\tAverage Score on 100 Episode: 0.009\n",
      "Episode 700\tAverage Score on 100 Episode: 0.007\n",
      "Episode 750\tAverage Score on 100 Episode: 0.012\n",
      "Episode 800\tAverage Score on 100 Episode: 0.023\n",
      "Episode 850\tAverage Score on 100 Episode: 0.026\n",
      "Episode 900\tAverage Score on 100 Episode: 0.026\n",
      "Episode 950\tAverage Score on 100 Episode: 0.030\n",
      "Episode 1000\tAverage Score on 100 Episode: 0.033\n",
      "Episode 1050\tAverage Score on 100 Episode: 0.045\n",
      "Episode 1100\tAverage Score on 100 Episode: 0.062\n",
      "Episode 1150\tAverage Score on 100 Episode: 0.070\n",
      "Episode 1200\tAverage Score on 100 Episode: 0.069\n",
      "Episode 1250\tAverage Score on 100 Episode: 0.078\n",
      "Episode 1300\tAverage Score on 100 Episode: 0.096\n",
      "Episode 1350\tAverage Score on 100 Episode: 0.124\n",
      "Episode 1400\tAverage Score on 100 Episode: 0.149\n",
      "Episode 1450\tAverage Score on 100 Episode: 0.134\n",
      "Episode 1500\tAverage Score on 100 Episode: 0.196\n",
      "Episode 1550\tAverage Score on 100 Episode: 0.290\n",
      "Episode 1600\tAverage Score on 100 Episode: 0.271\n",
      "Episode 1650\tAverage Score on 100 Episode: 0.283\n",
      "Episode 1700\tAverage Score on 100 Episode: 0.303\n",
      "Episode 1750\tAverage Score on 100 Episode: 0.315\n",
      "Episode 1800\tAverage Score on 100 Episode: 0.346\n",
      "Episode 1850\tAverage Score on 100 Episode: 0.320\n",
      "Episode 1900\tAverage Score on 100 Episode: 0.363\n",
      "Episode 1950\tAverage Score on 100 Episode: 0.352\n",
      "Episode 2000\tAverage Score on 100 Episode: 0.288\n",
      "Episode 2050\tAverage Score on 100 Episode: 0.384\n",
      "Episode 2100\tAverage Score on 100 Episode: 0.430\n",
      "Episode 2150\tAverage Score on 100 Episode: 0.418\n",
      "Episode 2200\tAverage Score on 100 Episode: 0.486\n",
      "Episode 2250\tAverage Score on 100 Episode: 0.463\n",
      "Episode 2300\tAverage Score on 100 Episode: 0.381\n",
      "Episode 2350\tAverage Score on 100 Episode: 0.366\n",
      "Episode 2400\tAverage Score on 100 Episode: 0.389\n",
      "Episode 2450\tAverage Score on 100 Episode: 0.342\n",
      "Episode 2500\tAverage Score on 100 Episode: 0.344\n",
      "Episode 2550\tAverage Score on 100 Episode: 0.320\n",
      "Episode 2600\tAverage Score on 100 Episode: 0.267\n",
      "Episode 2650\tAverage Score on 100 Episode: 0.286\n",
      "Episode 2700\tAverage Score on 100 Episode: 0.272\n",
      "Episode 2750\tAverage Score on 100 Episode: 0.306\n",
      "Episode 2800\tAverage Score on 100 Episode: 0.259\n",
      "Episode 2850\tAverage Score on 100 Episode: 0.170\n",
      "Episode 2900\tAverage Score on 100 Episode: 0.137\n",
      "Episode 2950\tAverage Score on 100 Episode: 0.117\n",
      "Episode 3000\tAverage Score on 100 Episode: 0.132\n",
      "Episode 3050\tAverage Score on 100 Episode: 0.127\n",
      "Episode 3100\tAverage Score on 100 Episode: 0.132\n",
      "Episode 3150\tAverage Score on 100 Episode: 0.178\n",
      "Episode 3200\tAverage Score on 100 Episode: 0.311\n",
      "Episode 3250\tAverage Score on 100 Episode: 0.438\n",
      "Episode 3300\tAverage Score on 100 Episode: 0.356\n",
      "Episode 3350\tAverage Score on 100 Episode: 0.212\n",
      "Episode 3400\tAverage Score on 100 Episode: 0.136\n",
      "Episode 3450\tAverage Score on 100 Episode: 0.082\n",
      "Episode 3500\tAverage Score on 100 Episode: 0.062\n",
      "Episode 3550\tAverage Score on 100 Episode: 0.054\n",
      "Episode 3600\tAverage Score on 100 Episode: 0.054\n",
      "Episode 3650\tAverage Score on 100 Episode: 0.056\n",
      "Episode 3700\tAverage Score on 100 Episode: 0.049\n",
      "Episode 3750\tAverage Score on 100 Episode: 0.062\n",
      "Episode 3800\tAverage Score on 100 Episode: 0.071\n",
      "Episode 3850\tAverage Score on 100 Episode: 0.072\n",
      "Episode 3900\tAverage Score on 100 Episode: 0.095\n",
      "Episode 3950\tAverage Score on 100 Episode: 0.122\n"
     ]
    }
   ],
   "source": [
    "scores = []\n",
    "best_score = 0.\n",
    "for i in range(4000):\n",
    "    env_info = env.reset(train_mode=True)[brain_name]\n",
    "    states = env_info.vector_observations\n",
    "    agents.reset()\n",
    "    agent_scores = np.zeros(len(agents.maddpg_agent))\n",
    "    for t in range(2000):\n",
    "        actions = agents.act(states)\n",
    "        env_info = env.step(actions)[brain_name]\n",
    "        next_states = env_info.vector_observations\n",
    "        rewards = env_info.rewards\n",
    "        dones = env_info.local_done\n",
    "        agent_scores += rewards\n",
    "        agents.step(states, actions, rewards, next_states, dones)\n",
    "        states = next_states\n",
    "        if np.any(dones):\n",
    "            break\n",
    "    score, idx = np.max(agent_scores), np.argmax(agent_scores)\n",
    "    #scores_deque.append(score)\n",
    "    #scores_idx_deque.append(idx)\n",
    "    scores.append(score)\n",
    "    if score > best_score:\n",
    "        if(score > 1.1*best_score):\n",
    "            torch.save(agents.maddpg_agent[idx].actor_local.state_dict(), 'checkpoint_actor.pth')\n",
    "            torch.save(agents.maddpg_agent[idx].critic_local.state_dict(), 'checkpoint_critic.pth')\n",
    "        best_score = score\n",
    "    if i % 50 == 0:\n",
    "        print('\\rEpisode {}\\tAverage Score on 100 Episode: {:.3f}'.format(i ,np.mean(scores[-100:])))"
   ]
  },
  {
   "cell_type": "markdown",
   "metadata": {},
   "source": [
    "#### 4.3 Generate a plot of the average score of the 100 most recent episodes"
   ]
  },
  {
   "cell_type": "code",
   "execution_count": 9,
   "metadata": {},
   "outputs": [],
   "source": [
    "rolling_average = [0.0]\n",
    "for i in range(1,len(scores)):\n",
    "    start_index = np.maximum(0,i-100)\n",
    "    end_index = i \n",
    "    rolling_average.append(np.mean(scores[start_index:end_index]))"
   ]
  },
  {
   "cell_type": "code",
   "execution_count": 11,
   "metadata": {},
   "outputs": [
    {
     "data": {
      "image/png": "[encoded data removed]",
      "text/plain": [
       "<Figure size 1080x720 with 1 Axes>"
      ]
     },
     "metadata": {
      "needs_background": "light"
     },
     "output_type": "display_data"
    }
   ],
   "source": [
    "import matplotlib.pyplot as plt\n",
    "plt.figure(figsize=(15,10))\n",
    "\n",
    "plt.plot(scores,label='Score at episode')\n",
    "plt.plot(rolling_average,label='Avg score 100 prior eps')\n",
    "plt.axhline(y=0.5,color='r')\n",
    "plt.legend()\n",
    "plt.show()"
   ]
  },
  {
   "cell_type": "markdown",
   "metadata": {},
   "source": [
    "Use `np.where` to figure out if and when we crossed the 0.5 threshold"
   ]
  },
  {
   "cell_type": "code",
   "execution_count": 38,
   "metadata": {},
   "outputs": [
    {
     "data": {
      "text/plain": [
       "(array([2213, 2215, 2241, 2242], dtype=int64),)"
      ]
     },
     "execution_count": 38,
     "metadata": {},
     "output_type": "execute_result"
    }
   ],
   "source": [
    "np_rolling_average = np.array(rolling_average)\n",
    "np.where(np_rolling_average > 0.5)"
   ]
  },
  {
   "cell_type": "markdown",
   "metadata": {},
   "source": [
    "### 5. Run the game using a trained agent\n",
    "\n",
    "Load the actor weights from our saved file and use them for each agent"
   ]
  },
  {
   "cell_type": "code",
   "execution_count": 34,
   "metadata": {},
   "outputs": [],
   "source": [
    "trained_agent1 = DDPGAgent(state_size, action_size, random_seed = 2018)\n",
    "trained_agent2 = DDPGAgent(state_size, action_size, random_seed = 2019)\n",
    "trained_agents = MADDPG([trained_agent1,trained_agent2])\n",
    "trained_agents.maddpg_agent[0].actor_local.load_state_dict(torch.load('checkpoint_actor.pth'))\n",
    "trained_agents.maddpg_agent[1].actor_local.load_state_dict(torch.load('checkpoint_actor.pth'))\n"
   ]
  },
  {
   "cell_type": "code",
   "execution_count": 35,
   "metadata": {},
   "outputs": [
    {
     "name": "stderr",
     "output_type": "stream",
     "text": [
      "c:\\users\\kvjos\\anaconda3\\envs\\drlnd2\\lib\\site-packages\\torch\\nn\\functional.py:995: UserWarning: nn.functional.tanh is deprecated. Use torch.tanh instead.\n",
      "  warnings.warn(\"nn.functional.tanh is deprecated. Use torch.tanh instead.\")\n"
     ]
    }
   ],
   "source": [
    "for i in range(5):\n",
    "    env_info = env.reset(train_mode=False)[brain_name]\n",
    "    states = env_info.vector_observations\n",
    "    agents.reset()\n",
    "    for t in range(1000):\n",
    "        actions = trained_agents.act(states)\n",
    "        env_info = env.step(actions)[brain_name]\n",
    "        next_states = env_info.vector_observations\n",
    "        dones = env_info.local_done\n",
    "        states = next_states\n",
    "        if np.any(dones):\n",
    "            break"
   ]
  },
  {
   "cell_type": "code",
   "execution_count": null,
   "metadata": {},
   "outputs": [],
   "source": []
  }
 ],
 "metadata": {
  "kernelspec": {
   "display_name": "Python 3",
   "language": "python",
   "name": "python3"
  },
  "language_info": {
   "codemirror_mode": {
    "name": "ipython",
    "version": 3
   },
   "file_extension": ".py",
   "mimetype": "text/x-python",
   "name": "python",
   "nbconvert_exporter": "python",
   "pygments_lexer": "ipython3",
   "version": "3.6.7"
  }
 },
 "nbformat": 4,
 "nbformat_minor": 2
}
